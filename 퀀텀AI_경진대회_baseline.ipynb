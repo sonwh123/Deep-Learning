{
  "cells": [
    {
      "cell_type": "markdown",
      "metadata": {
        "id": "view-in-github",
        "colab_type": "text"
      },
      "source": [
        "<a href=\"https://colab.research.google.com/github/sonwh123/Deep-Learning/blob/master/%ED%80%80%ED%85%80AI_%EA%B2%BD%EC%A7%84%EB%8C%80%ED%9A%8C_baseline.ipynb\" target=\"_parent\"><img src=\"https://colab.research.google.com/assets/colab-badge.svg\" alt=\"Open In Colab\"/></a>"
      ]
    },
    {
      "cell_type": "markdown",
      "id": "a560a5bf",
      "metadata": {
        "id": "a560a5bf"
      },
      "source": [
        "# Quantum Machine learning Guide"
      ]
    },
    {
      "cell_type": "markdown",
      "id": "373e4683",
      "metadata": {
        "id": "373e4683"
      },
      "source": [
        "이 안내 노트북에서는 양자 컴퓨팅 프레임 워크에 대한 개략적인 소개와 QML의 구현 방법을 알아 봅니다.\n"
      ]
    },
    {
      "cell_type": "markdown",
      "id": "61a4fbed",
      "metadata": {
        "id": "61a4fbed"
      },
      "source": [
        "다양한 QML framework가 있고 기존 ML framework들과 잘 통합되어 있습니다.\n",
        "일반적으로는 다음 2 개를 많이 사용합니다.\n",
        "\n",
        "1. Pennylane: 캐나다 Xanadu에서 만든 양자 컴퓨팅 Framework입니다. 다른 프로젝트들에 비해 머신러닝에 친화적인 인터페이스와 요소를 제공합니다.\n",
        "2. Qiskit: IBM에서 만든 양자컴퓨팅 Framework입니다. 좀 더 물리적인 실험과 및 대규모 HPC 연산을 포함하는 통합적인 Framework를 제공하고 있습니다.\n",
        "\n",
        "여기서는 QML 구현을 위해 Pennylane을 사용해 볼 것입니다.\n",
        "\n",
        "Pennylane은 PyPI에 등록되어 있습니다. 현재 최신 버전은 0.4.x입니다.\n",
        "다음 명령어로 Python 환경에 `pennylane`을 설치하세요.\n",
        "\n",
        "Pennylane에 대한 Tutorial과 자세한 사항들은 [Pennylane codebook](https://pennylane.ai/codebook)과 [Demos](https://pennylane.ai/search/?contentType=DEMO&categories=how-to&sort=publication_date) 를 참고하세요."
      ]
    },
    {
      "cell_type": "code",
      "execution_count": null,
      "id": "9b632a1d-0f76-4193-9542-94e4bd6d2ed2",
      "metadata": {
        "colab": {
          "base_uri": "https://localhost:8080/"
        },
        "id": "9b632a1d-0f76-4193-9542-94e4bd6d2ed2",
        "outputId": "76c32ddd-2a7e-4d09-d2b2-6a27b97f54e3"
      },
      "outputs": [
        {
          "name": "stdout",
          "output_type": "stream",
          "text": [
            "Collecting pennylane\n",
            "  Downloading pennylane-0.42.0-py3-none-any.whl.metadata (11 kB)\n",
            "Requirement already satisfied: scipy in /usr/local/lib/python3.11/dist-packages (from pennylane) (1.15.3)\n",
            "Requirement already satisfied: networkx in /usr/local/lib/python3.11/dist-packages (from pennylane) (3.5)\n",
            "Collecting rustworkx>=0.14.0 (from pennylane)\n",
            "  Downloading rustworkx-0.16.0-cp39-abi3-manylinux_2_17_x86_64.manylinux2014_x86_64.whl.metadata (10 kB)\n",
            "Requirement already satisfied: autograd in /usr/local/lib/python3.11/dist-packages (from pennylane) (1.8.0)\n",
            "Collecting appdirs (from pennylane)\n",
            "  Downloading appdirs-1.4.4-py2.py3-none-any.whl.metadata (9.0 kB)\n",
            "Collecting autoray>=0.6.11 (from pennylane)\n",
            "  Downloading autoray-0.7.2-py3-none-any.whl.metadata (5.8 kB)\n",
            "Requirement already satisfied: cachetools in /usr/local/lib/python3.11/dist-packages (from pennylane) (5.5.2)\n",
            "Collecting pennylane-lightning>=0.42 (from pennylane)\n",
            "  Downloading pennylane_lightning-0.42.0-cp311-cp311-manylinux_2_28_x86_64.whl.metadata (11 kB)\n",
            "Requirement already satisfied: requests in /usr/local/lib/python3.11/dist-packages (from pennylane) (2.32.3)\n",
            "Requirement already satisfied: tomlkit in /usr/local/lib/python3.11/dist-packages (from pennylane) (0.13.3)\n",
            "Requirement already satisfied: typing_extensions in /usr/local/lib/python3.11/dist-packages (from pennylane) (4.14.1)\n",
            "Requirement already satisfied: packaging in /usr/local/lib/python3.11/dist-packages (from pennylane) (25.0)\n",
            "Collecting diastatic-malt (from pennylane)\n",
            "  Downloading diastatic_malt-2.15.2-py3-none-any.whl.metadata (2.6 kB)\n",
            "Requirement already satisfied: numpy in /usr/local/lib/python3.11/dist-packages (from pennylane) (2.0.2)\n",
            "Collecting scipy-openblas32>=0.3.26 (from pennylane-lightning>=0.42->pennylane)\n",
            "  Downloading scipy_openblas32-0.3.30.0.2-py3-none-manylinux2014_x86_64.manylinux_2_17_x86_64.whl.metadata (57 kB)\n",
            "\u001b[2K     \u001b[90m━━━━━━━━━━━━━━━━━━━━━━━━━━━━━━━━━━━━━━━━\u001b[0m \u001b[32m57.1/57.1 kB\u001b[0m \u001b[31m1.1 MB/s\u001b[0m eta \u001b[36m0:00:00\u001b[0m\n",
            "\u001b[?25hRequirement already satisfied: astunparse in /usr/local/lib/python3.11/dist-packages (from diastatic-malt->pennylane) (1.6.3)\n",
            "Requirement already satisfied: gast in /usr/local/lib/python3.11/dist-packages (from diastatic-malt->pennylane) (0.6.0)\n",
            "Requirement already satisfied: termcolor in /usr/local/lib/python3.11/dist-packages (from diastatic-malt->pennylane) (3.1.0)\n",
            "Requirement already satisfied: charset-normalizer<4,>=2 in /usr/local/lib/python3.11/dist-packages (from requests->pennylane) (3.4.2)\n",
            "Requirement already satisfied: idna<4,>=2.5 in /usr/local/lib/python3.11/dist-packages (from requests->pennylane) (3.10)\n",
            "Requirement already satisfied: urllib3<3,>=1.21.1 in /usr/local/lib/python3.11/dist-packages (from requests->pennylane) (2.4.0)\n",
            "Requirement already satisfied: certifi>=2017.4.17 in /usr/local/lib/python3.11/dist-packages (from requests->pennylane) (2025.7.14)\n",
            "Requirement already satisfied: wheel<1.0,>=0.23.0 in /usr/local/lib/python3.11/dist-packages (from astunparse->diastatic-malt->pennylane) (0.45.1)\n",
            "Requirement already satisfied: six<2.0,>=1.6.1 in /usr/local/lib/python3.11/dist-packages (from astunparse->diastatic-malt->pennylane) (1.17.0)\n",
            "Downloading pennylane-0.42.0-py3-none-any.whl (4.8 MB)\n",
            "\u001b[2K   \u001b[90m━━━━━━━━━━━━━━━━━━━━━━━━━━━━━━━━━━━━━━━━\u001b[0m \u001b[32m4.8/4.8 MB\u001b[0m \u001b[31m56.3 MB/s\u001b[0m eta \u001b[36m0:00:00\u001b[0m\n",
            "\u001b[?25hDownloading autoray-0.7.2-py3-none-any.whl (930 kB)\n",
            "\u001b[2K   \u001b[90m━━━━━━━━━━━━━━━━━━━━━━━━━━━━━━━━━━━━━━━━\u001b[0m \u001b[32m930.8/930.8 kB\u001b[0m \u001b[31m47.6 MB/s\u001b[0m eta \u001b[36m0:00:00\u001b[0m\n",
            "\u001b[?25hDownloading pennylane_lightning-0.42.0-cp311-cp311-manylinux_2_28_x86_64.whl (2.6 MB)\n",
            "\u001b[2K   \u001b[90m━━━━━━━━━━━━━━━━━━━━━━━━━━━━━━━━━━━━━━━━\u001b[0m \u001b[32m2.6/2.6 MB\u001b[0m \u001b[31m84.0 MB/s\u001b[0m eta \u001b[36m0:00:00\u001b[0m\n",
            "\u001b[?25hDownloading rustworkx-0.16.0-cp39-abi3-manylinux_2_17_x86_64.manylinux2014_x86_64.whl (2.1 MB)\n",
            "\u001b[2K   \u001b[90m━━━━━━━━━━━━━━━━━━━━━━━━━━━━━━━━━━━━━━━━\u001b[0m \u001b[32m2.1/2.1 MB\u001b[0m \u001b[31m76.7 MB/s\u001b[0m eta \u001b[36m0:00:00\u001b[0m\n",
            "\u001b[?25hDownloading appdirs-1.4.4-py2.py3-none-any.whl (9.6 kB)\n",
            "Downloading diastatic_malt-2.15.2-py3-none-any.whl (167 kB)\n",
            "\u001b[2K   \u001b[90m━━━━━━━━━━━━━━━━━━━━━━━━━━━━━━━━━━━━━━━━\u001b[0m \u001b[32m167.9/167.9 kB\u001b[0m \u001b[31m11.8 MB/s\u001b[0m eta \u001b[36m0:00:00\u001b[0m\n",
            "\u001b[?25hDownloading scipy_openblas32-0.3.30.0.2-py3-none-manylinux2014_x86_64.manylinux_2_17_x86_64.whl (8.6 MB)\n",
            "\u001b[2K   \u001b[90m━━━━━━━━━━━━━━━━━━━━━━━━━━━━━━━━━━━━━━━━\u001b[0m \u001b[32m8.6/8.6 MB\u001b[0m \u001b[31m109.2 MB/s\u001b[0m eta \u001b[36m0:00:00\u001b[0m\n",
            "\u001b[?25hInstalling collected packages: appdirs, scipy-openblas32, rustworkx, autoray, diastatic-malt, pennylane-lightning, pennylane\n",
            "Successfully installed appdirs-1.4.4 autoray-0.7.2 diastatic-malt-2.15.2 pennylane-0.42.0 pennylane-lightning-0.42.0 rustworkx-0.16.0 scipy-openblas32-0.3.30.0.2\n"
          ]
        }
      ],
      "source": [
        "!pip install pennylane"
      ]
    },
    {
      "cell_type": "markdown",
      "id": "d734b599",
      "metadata": {
        "id": "d734b599"
      },
      "source": [
        "## 양자 회로 설계하기"
      ]
    },
    {
      "cell_type": "code",
      "execution_count": null,
      "id": "e76f92fa",
      "metadata": {
        "id": "e76f92fa"
      },
      "outputs": [],
      "source": [
        "import pennylane as qml # 일반적으로 qml이란 이름으로 가져옵니다. Quantum Machine Learning의 약자입니다.\n",
        "import numpy as np\n",
        "\n",
        "dev = qml.device(\"default.qubit\", wires=3) # device를 정의합니다.\n",
        "\n",
        "@qml.qnode(dev)\n",
        "def circuit():\n",
        "    qml.H(0)\n",
        "    qml.S(0)\n",
        "    qml.H(1)\n",
        "    qml.H(2)\n",
        "    return qml.probs()"
      ]
    },
    {
      "cell_type": "markdown",
      "id": "a43R6fDo-82a",
      "metadata": {
        "id": "a43R6fDo-82a"
      },
      "source": [
        "## 양자 회로 그리기"
      ]
    },
    {
      "cell_type": "code",
      "execution_count": null,
      "id": "dee36ce1",
      "metadata": {
        "colab": {
          "base_uri": "https://localhost:8080/"
        },
        "id": "dee36ce1",
        "outputId": "b4c4daa3-b07c-4e6c-f12e-71d3ae03cbdb"
      },
      "outputs": [
        {
          "name": "stdout",
          "output_type": "stream",
          "text": [
            "0: ──H──S─┤  Probs\n",
            "1: ──H────┤  Probs\n",
            "2: ──H────┤  Probs\n"
          ]
        }
      ],
      "source": [
        "print(qml.draw(circuit)())"
      ]
    },
    {
      "cell_type": "code",
      "execution_count": null,
      "id": "38407a51",
      "metadata": {
        "colab": {
          "base_uri": "https://localhost:8080/",
          "height": 509
        },
        "id": "38407a51",
        "outputId": "d5825921-2fc2-4061-ac88-72892f704d7e"
      },
      "outputs": [
        {
          "name": "stdout",
          "output_type": "stream",
          "text": [
            "0: ──H──S─┤  Probs\n",
            "1: ──H────┤  Probs\n",
            "2: ──H────┤  Probs\n"
          ]
        },
        {
          "data": {
            "text/plain": [
              "(<Figure size 500x400 with 1 Axes>, <Axes: >)"
            ]
          },
          "execution_count": 4,
          "metadata": {},
          "output_type": "execute_result"
        },
        {
          "data": {
            "image/png": "[encoded data removed]",
            "text/plain": [
              "<Figure size 500x400 with 1 Axes>"
            ]
          },
          "metadata": {},
          "output_type": "display_data"
        }
      ],
      "source": [
        "print(qml.draw(circuit)())\n",
        "qml.draw_mpl(circuit)()"
      ]
    },
    {
      "cell_type": "markdown",
      "id": "10db9939",
      "metadata": {
        "id": "10db9939"
      },
      "source": [
        "|양자 회로| ML|\n",
        "|:--:|:--:|\n",
        "|Quantum Circuit| Layer, ML Module|\n",
        "|Backend | device(CPU, CUDA, ...)|"
      ]
    },
    {
      "cell_type": "markdown",
      "id": "1febcca3",
      "metadata": {
        "id": "1febcca3"
      },
      "source": [
        "## Backend\n",
        "\n",
        "Backend는 실제 양자 회로를 구동하는 시뮬레이터, 혹은 양자 컴퓨터입니다. 한 개의 회로를 어느 기기에서 돌릴 지 미리 선언을 해주어야 합니다.\n",
        "\n",
        "\n",
        "**Backend 선택하기**\n",
        "\n",
        "다양한 Backend를 양자 회로를 돌리는 데 사용할 수 있습니다. Pennylaned의 `default.qubit`, `lightning.qubit`등 뿐만 아니라, Qiskit, IQM 등 실제 양자 컴퓨터의 Backend interface를 가져와 사용할 수도 있습니다.\n",
        "그러나, QML을 구현하고 시험해 볼 때는 `default.qubit`이 권장됩니다. 다른 ML 프레임워크와의 결합도 간편할 뿐더러 가장 빠른 differentiation 방법을 제공합니다.\n",
        "\n",
        "Backend 선택과 개별 device에 대한 정보는 Pennylane의 공식 문서: [Quantum Devices](https://pennylane.ai/devices)를 참고하세요."
      ]
    },
    {
      "cell_type": "code",
      "execution_count": null,
      "id": "afa77e40",
      "metadata": {
        "id": "afa77e40"
      },
      "outputs": [],
      "source": [
        "NUMBER_OF_WIRES =20\n",
        "dev = qml.device(\"default.qubit\", wires=NUMBER_OF_WIRES, shots=3000)"
      ]
    },
    {
      "cell_type": "markdown",
      "id": "44b2a8eb",
      "metadata": {
        "id": "44b2a8eb"
      },
      "source": [
        "## 측정하기\n",
        "\n",
        "- `qml.probs`: 개별 state들의 측정 확률 벡터입니다. $N$ qubit에 대해 $2^N$ 크기를 가집니다.\n",
        "- `qml.expval`: Pennylane의 Observable들을 측정합니다. 기초적으로 `qml.PauliZ(i), qml.PauliX(i), qml.PauliY(i)`가 있으며 이들을 조합 하거나/여러개의 Observable을 측정할 수 있습니다."
      ]
    },
    {
      "cell_type": "code",
      "execution_count": null,
      "id": "a56477c0-2419-4be2-a7bf-23c4804d8b73",
      "metadata": {
        "id": "a56477c0-2419-4be2-a7bf-23c4804d8b73"
      },
      "outputs": [],
      "source": [
        "dev_3 = qml.device(\"default.qubit\", wires=3)\n",
        "\n",
        "@qml.qnode(dev_3)\n",
        "def circuit1():\n",
        "    qml.H(0)\n",
        "    qml.H(1)\n",
        "    return qml.expval(qml.PauliX(0))\n",
        "@qml.qnode(dev_3)\n",
        "def circuit2():\n",
        "    qml.H(0)\n",
        "    qml.H(1)\n",
        "    return qml.probs()\n",
        "@qml.qnode(dev_3)\n",
        "def circuit3():\n",
        "    qml.H(0)\n",
        "    qml.H(1)\n",
        "    return [qml.expval(qml.PauliZ(i)) for i in range(3)]\n"
      ]
    },
    {
      "cell_type": "code",
      "execution_count": null,
      "id": "c5e7657f-a912-49a9-b6ae-cac5227b2943",
      "metadata": {
        "id": "c5e7657f-a912-49a9-b6ae-cac5227b2943"
      },
      "outputs": [],
      "source": [
        "circuit1()"
      ]
    },
    {
      "cell_type": "code",
      "execution_count": null,
      "id": "325014c6-e62b-4e5b-a445-a865b9f01097",
      "metadata": {
        "id": "325014c6-e62b-4e5b-a445-a865b9f01097"
      },
      "outputs": [],
      "source": [
        "circuit2()"
      ]
    },
    {
      "cell_type": "code",
      "execution_count": null,
      "id": "68da99b2-63d7-4bd5-8521-7ee958d9b8df",
      "metadata": {
        "id": "68da99b2-63d7-4bd5-8521-7ee958d9b8df"
      },
      "outputs": [],
      "source": [
        "circuit3()"
      ]
    },
    {
      "cell_type": "code",
      "execution_count": null,
      "id": "50b45ab1-d75f-4eb7-8709-90b4d26cf370",
      "metadata": {
        "id": "50b45ab1-d75f-4eb7-8709-90b4d26cf370"
      },
      "outputs": [],
      "source": [
        "obs = qml.PauliZ(0) @ qml.PauliX(1)\n",
        "obs"
      ]
    },
    {
      "cell_type": "code",
      "execution_count": null,
      "id": "1fb4ff47-1657-4fec-9262-382b6d6e46d7",
      "metadata": {
        "id": "1fb4ff47-1657-4fec-9262-382b6d6e46d7"
      },
      "outputs": [],
      "source": [
        "@qml.qnode(dev_3)\n",
        "def circuit4():\n",
        "    qml.H(0)\n",
        "    qml.H(1)\n",
        "    qml.H(2)\n",
        "    return qml.expval(obs)"
      ]
    },
    {
      "cell_type": "code",
      "execution_count": null,
      "id": "f07a4764-dfab-4057-8263-2b5fc05a2d6f",
      "metadata": {
        "id": "f07a4764-dfab-4057-8263-2b5fc05a2d6f"
      },
      "outputs": [],
      "source": [
        "circuit4()"
      ]
    },
    {
      "cell_type": "markdown",
      "id": "0af34568",
      "metadata": {
        "id": "0af34568"
      },
      "source": [
        "## 양자 회로의 설계"
      ]
    },
    {
      "cell_type": "code",
      "execution_count": null,
      "id": "wTakAWUl_m89",
      "metadata": {
        "id": "wTakAWUl_m89"
      },
      "outputs": [],
      "source": [
        "from pennylane import numpy as np_p"
      ]
    },
    {
      "cell_type": "code",
      "execution_count": null,
      "id": "Aig2Zp2v_m3f",
      "metadata": {
        "id": "Aig2Zp2v_m3f"
      },
      "outputs": [],
      "source": [
        "dev = qml.device(\"default.qubit\", wires=1)\n",
        "@qml.qnode(dev)\n",
        "def single_qubit_circuit(theta, input_value):\n",
        "    qml.RX(theta, wires=0)\n",
        "    qml.RY(input_value, wires=0)\n",
        "    return qml.expval(qml.PauliZ(0))\n"
      ]
    },
    {
      "cell_type": "code",
      "execution_count": null,
      "id": "ajuEapHiACG3",
      "metadata": {
        "id": "ajuEapHiACG3"
      },
      "outputs": [],
      "source": [
        "single_qubit_circuit(0.1, 0.2) # Customized numpy result"
      ]
    },
    {
      "cell_type": "code",
      "execution_count": null,
      "id": "k3RDyRhqAE6z",
      "metadata": {
        "id": "k3RDyRhqAE6z"
      },
      "outputs": [],
      "source": [
        "#Batched data\n",
        "theta = 0.032\n",
        "theta_b = np_p.array([0.2, 0.3, 0.5])\n",
        "input_value_b = np_p.array([3.2, 1.2, 0.1])\n"
      ]
    },
    {
      "cell_type": "code",
      "execution_count": null,
      "id": "NNvJccpKAPFd",
      "metadata": {
        "id": "NNvJccpKAPFd"
      },
      "outputs": [],
      "source": [
        "single_qubit_circuit(theta_b, input_value_b) # Parameter가 모두 Batched parameter"
      ]
    },
    {
      "cell_type": "code",
      "execution_count": null,
      "id": "7oZG_vrAArhD",
      "metadata": {
        "id": "7oZG_vrAArhD"
      },
      "outputs": [],
      "source": [
        "single_qubit_circuit(theta, input_value_b) # Single, batched parameter 조합"
      ]
    },
    {
      "cell_type": "markdown",
      "id": "09c24267-5287-49b6-be45-6696bc24358d",
      "metadata": {
        "id": "09c24267-5287-49b6-be45-6696bc24358d"
      },
      "source": [
        "#### Pennylane Optimizer"
      ]
    },
    {
      "cell_type": "code",
      "execution_count": null,
      "id": "9364111e-e06d-4e06-b3d0-de2855c9565f",
      "metadata": {
        "id": "9364111e-e06d-4e06-b3d0-de2855c9565f"
      },
      "outputs": [],
      "source": [
        "opt = qml.GradientDescentOptimizer(stepsize=0.01)\n",
        "max_iterations = 500\n",
        "conv_tol = 1e-06\n",
        "param = np_p.random.rand(1, requires_grad=True)\n",
        "\n",
        "his_param = []\n",
        "his_energy = []\n",
        "for i in range(max_iterations):\n",
        "    param, prev_energy = opt.step_and_cost(lambda x: single_qubit_circuit(x, input_value_b[0]), param)\n",
        "    his_param.append(param)\n",
        "    his_energy.append(prev_energy)\n",
        "    energy = single_qubit_circuit(param, input_value_b[0])\n",
        "    conv = np_p.abs(prev_energy - energy)\n",
        "    if conv <= conv_tol:\n",
        "        break\n"
      ]
    },
    {
      "cell_type": "code",
      "execution_count": null,
      "id": "e208bd82-fc78-4698-a6b1-fdce3755685d",
      "metadata": {
        "id": "e208bd82-fc78-4698-a6b1-fdce3755685d"
      },
      "outputs": [],
      "source": [
        "import matplotlib.pyplot as plt"
      ]
    },
    {
      "cell_type": "code",
      "execution_count": null,
      "id": "68f25bae-2246-4171-944c-371f1ee9ef35",
      "metadata": {
        "id": "68f25bae-2246-4171-944c-371f1ee9ef35"
      },
      "outputs": [],
      "source": [
        "plt.plot(his_energy)"
      ]
    },
    {
      "cell_type": "markdown",
      "id": "5fc906be-16fa-4eb4-a595-1ab948bd6a78",
      "metadata": {
        "id": "5fc906be-16fa-4eb4-a595-1ab948bd6a78"
      },
      "source": [
        "### Torch integration"
      ]
    },
    {
      "cell_type": "code",
      "execution_count": null,
      "id": "fVtgUXbhA07N",
      "metadata": {
        "id": "fVtgUXbhA07N"
      },
      "outputs": [],
      "source": [
        "import torch\n",
        "from torch.optim import Adam\n",
        "from torch.nn.parameter import Parameter\n",
        "from torch.nn import NLLLoss\n",
        "\n",
        "device = torch.device(\"cuda\" if torch.cuda.is_available() else \"cpu\")"
      ]
    },
    {
      "cell_type": "code",
      "execution_count": null,
      "id": "zIW7OCooA8Uf",
      "metadata": {
        "colab": {
          "base_uri": "https://localhost:8080/",
          "height": 184
        },
        "collapsed": true,
        "id": "zIW7OCooA8Uf",
        "outputId": "be6387ec-b873-4db1-86d3-d6898ebcda9d"
      },
      "outputs": [
        {
          "ename": "NameError",
          "evalue": "name 'single_qubit_circuit' is not defined",
          "output_type": "error",
          "traceback": [
            "\u001b[0;31m---------------------------------------------------------------------------\u001b[0m",
            "\u001b[0;31mNameError\u001b[0m                                 Traceback (most recent call last)",
            "\u001b[0;32m/tmp/ipython-input-2-2548469036.py\u001b[0m in \u001b[0;36m<cell line: 0>\u001b[0;34m()\u001b[0m\n\u001b[1;32m      1\u001b[0m \u001b[0mtorch_theta\u001b[0m \u001b[0;34m=\u001b[0m \u001b[0mtorch\u001b[0m\u001b[0;34m.\u001b[0m\u001b[0mrand\u001b[0m\u001b[0;34m(\u001b[0m\u001b[0;36m4\u001b[0m\u001b[0;34m)\u001b[0m\u001b[0;34m\u001b[0m\u001b[0;34m\u001b[0m\u001b[0m\n\u001b[1;32m      2\u001b[0m \u001b[0mtorch_phi\u001b[0m \u001b[0;34m=\u001b[0m \u001b[0mtorch\u001b[0m\u001b[0;34m.\u001b[0m\u001b[0mrand\u001b[0m\u001b[0;34m(\u001b[0m\u001b[0;36m4\u001b[0m\u001b[0;34m)\u001b[0m\u001b[0;34m\u001b[0m\u001b[0;34m\u001b[0m\u001b[0m\n\u001b[0;32m----> 3\u001b[0;31m \u001b[0msingle_qubit_circuit\u001b[0m\u001b[0;34m(\u001b[0m\u001b[0mtorch_theta\u001b[0m\u001b[0;34m,\u001b[0m \u001b[0mtorch_phi\u001b[0m\u001b[0;34m)\u001b[0m \u001b[0;31m# Torch tensor의 경우 자동으로 tensor array로 변환\u001b[0m\u001b[0;34m\u001b[0m\u001b[0;34m\u001b[0m\u001b[0m\n\u001b[0m",
            "\u001b[0;31mNameError\u001b[0m: name 'single_qubit_circuit' is not defined"
          ]
        }
      ],
      "source": [
        "torch_theta = torch.rand(4)\n",
        "torch_phi = torch.rand(4)\n",
        "single_qubit_circuit(torch_theta, torch_phi) # Torch tensor의 경우 자동으로 tensor array로 변환"
      ]
    },
    {
      "cell_type": "code",
      "execution_count": null,
      "id": "c716cc12-86b9-42f8-afb1-52965baafb20",
      "metadata": {
        "id": "c716cc12-86b9-42f8-afb1-52965baafb20"
      },
      "outputs": [],
      "source": [
        "parameter = Parameter(torch.tensor( torch.rand(1).item(), requires_grad = True))\n",
        "parameter"
      ]
    },
    {
      "cell_type": "code",
      "execution_count": null,
      "id": "e0de3624-3a91-4675-99a1-e5c039196a4b",
      "metadata": {
        "id": "e0de3624-3a91-4675-99a1-e5c039196a4b"
      },
      "outputs": [],
      "source": [
        "optim = Adam([parameter], lr= 0.001)"
      ]
    },
    {
      "cell_type": "code",
      "execution_count": null,
      "id": "ab55b060-d597-4064-85fd-09b22b05d49a",
      "metadata": {
        "id": "ab55b060-d597-4064-85fd-09b22b05d49a"
      },
      "outputs": [],
      "source": [
        "input_data = torch.rand(1)\n",
        "history_e  =[]\n",
        "for i in range(1000):\n",
        "    optim.zero_grad()\n",
        "    result = single_qubit_circuit(input_data, parameter)+1\n",
        "    loss = (result)\n",
        "    loss.backward()\n",
        "    history_e.append(result.item())\n",
        "    optim.step()"
      ]
    },
    {
      "cell_type": "code",
      "execution_count": null,
      "id": "061f5d2b-e6a7-4b6b-b71d-e8e6586b8165",
      "metadata": {
        "id": "061f5d2b-e6a7-4b6b-b71d-e8e6586b8165"
      },
      "outputs": [],
      "source": [
        "import matplotlib.pyplot as plt"
      ]
    },
    {
      "cell_type": "code",
      "execution_count": null,
      "id": "843a8319-f7b1-47ff-8777-4c3701b6709b",
      "metadata": {
        "id": "843a8319-f7b1-47ff-8777-4c3701b6709b"
      },
      "outputs": [],
      "source": [
        "plt.plot(history_e)"
      ]
    },
    {
      "cell_type": "markdown",
      "id": "7eea7f64",
      "metadata": {
        "id": "7eea7f64"
      },
      "source": [
        "# 분류 모델 만들기"
      ]
    },
    {
      "cell_type": "markdown",
      "id": "8d763f71",
      "metadata": {
        "id": "8d763f71"
      },
      "source": [
        "## 0-1 binary classfiers"
      ]
    },
    {
      "cell_type": "markdown",
      "id": "9b4b934e-a214-4677-a2d3-9fd491a962ba",
      "metadata": {
        "id": "9b4b934e-a214-4677-a2d3-9fd491a962ba"
      },
      "source": [
        "### Fashion MINIST dataset"
      ]
    },
    {
      "cell_type": "code",
      "execution_count": 1,
      "id": "5ycBnlc1Co0u",
      "metadata": {
        "colab": {
          "base_uri": "https://localhost:8080/"
        },
        "id": "5ycBnlc1Co0u",
        "outputId": "0c3fd37c-6638-4880-e3f2-e37ec694858e"
      },
      "outputs": [
        {
          "output_type": "stream",
          "name": "stdout",
          "text": [
            "Collecting pennylane\n",
            "  Downloading pennylane-0.42.1-py3-none-any.whl.metadata (11 kB)\n",
            "Requirement already satisfied: scipy in /usr/local/lib/python3.11/dist-packages (from pennylane) (1.16.0)\n",
            "Requirement already satisfied: networkx in /usr/local/lib/python3.11/dist-packages (from pennylane) (3.5)\n",
            "Collecting rustworkx>=0.14.0 (from pennylane)\n",
            "  Downloading rustworkx-0.16.0-cp39-abi3-manylinux_2_17_x86_64.manylinux2014_x86_64.whl.metadata (10 kB)\n",
            "Requirement already satisfied: autograd in /usr/local/lib/python3.11/dist-packages (from pennylane) (1.8.0)\n",
            "Collecting appdirs (from pennylane)\n",
            "  Downloading appdirs-1.4.4-py2.py3-none-any.whl.metadata (9.0 kB)\n",
            "Collecting autoray>=0.6.11 (from pennylane)\n",
            "  Downloading autoray-0.7.2-py3-none-any.whl.metadata (5.8 kB)\n",
            "Requirement already satisfied: cachetools in /usr/local/lib/python3.11/dist-packages (from pennylane) (5.5.2)\n",
            "Collecting pennylane-lightning>=0.42 (from pennylane)\n",
            "  Downloading pennylane_lightning-0.42.0-cp311-cp311-manylinux_2_28_x86_64.whl.metadata (11 kB)\n",
            "Requirement already satisfied: requests in /usr/local/lib/python3.11/dist-packages (from pennylane) (2.32.3)\n",
            "Requirement already satisfied: tomlkit in /usr/local/lib/python3.11/dist-packages (from pennylane) (0.13.3)\n",
            "Requirement already satisfied: typing_extensions in /usr/local/lib/python3.11/dist-packages (from pennylane) (4.14.1)\n",
            "Requirement already satisfied: packaging in /usr/local/lib/python3.11/dist-packages (from pennylane) (25.0)\n",
            "Collecting diastatic-malt (from pennylane)\n",
            "  Downloading diastatic_malt-2.15.2-py3-none-any.whl.metadata (2.6 kB)\n",
            "Requirement already satisfied: numpy in /usr/local/lib/python3.11/dist-packages (from pennylane) (2.0.2)\n",
            "Collecting scipy-openblas32>=0.3.26 (from pennylane-lightning>=0.42->pennylane)\n",
            "  Downloading scipy_openblas32-0.3.30.0.2-py3-none-manylinux2014_x86_64.manylinux_2_17_x86_64.whl.metadata (57 kB)\n",
            "\u001b[2K     \u001b[90m━━━━━━━━━━━━━━━━━━━━━━━━━━━━━━━━━━━━━━━━\u001b[0m \u001b[32m57.1/57.1 kB\u001b[0m \u001b[31m2.6 MB/s\u001b[0m eta \u001b[36m0:00:00\u001b[0m\n",
            "\u001b[?25hRequirement already satisfied: astunparse in /usr/local/lib/python3.11/dist-packages (from diastatic-malt->pennylane) (1.6.3)\n",
            "Requirement already satisfied: gast in /usr/local/lib/python3.11/dist-packages (from diastatic-malt->pennylane) (0.6.0)\n",
            "Requirement already satisfied: termcolor in /usr/local/lib/python3.11/dist-packages (from diastatic-malt->pennylane) (3.1.0)\n",
            "Requirement already satisfied: charset-normalizer<4,>=2 in /usr/local/lib/python3.11/dist-packages (from requests->pennylane) (3.4.2)\n",
            "Requirement already satisfied: idna<4,>=2.5 in /usr/local/lib/python3.11/dist-packages (from requests->pennylane) (3.10)\n",
            "Requirement already satisfied: urllib3<3,>=1.21.1 in /usr/local/lib/python3.11/dist-packages (from requests->pennylane) (2.5.0)\n",
            "Requirement already satisfied: certifi>=2017.4.17 in /usr/local/lib/python3.11/dist-packages (from requests->pennylane) (2025.7.14)\n",
            "Requirement already satisfied: wheel<1.0,>=0.23.0 in /usr/local/lib/python3.11/dist-packages (from astunparse->diastatic-malt->pennylane) (0.45.1)\n",
            "Requirement already satisfied: six<2.0,>=1.6.1 in /usr/local/lib/python3.11/dist-packages (from astunparse->diastatic-malt->pennylane) (1.17.0)\n",
            "Downloading pennylane-0.42.1-py3-none-any.whl (4.8 MB)\n",
            "\u001b[2K   \u001b[90m━━━━━━━━━━━━━━━━━━━━━━━━━━━━━━━━━━━━━━━━\u001b[0m \u001b[32m4.8/4.8 MB\u001b[0m \u001b[31m52.3 MB/s\u001b[0m eta \u001b[36m0:00:00\u001b[0m\n",
            "\u001b[?25hDownloading autoray-0.7.2-py3-none-any.whl (930 kB)\n",
            "\u001b[2K   \u001b[90m━━━━━━━━━━━━━━━━━━━━━━━━━━━━━━━━━━━━━━━━\u001b[0m \u001b[32m930.8/930.8 kB\u001b[0m \u001b[31m50.4 MB/s\u001b[0m eta \u001b[36m0:00:00\u001b[0m\n",
            "\u001b[?25hDownloading pennylane_lightning-0.42.0-cp311-cp311-manylinux_2_28_x86_64.whl (2.6 MB)\n",
            "\u001b[2K   \u001b[90m━━━━━━━━━━━━━━━━━━━━━━━━━━━━━━━━━━━━━━━━\u001b[0m \u001b[32m2.6/2.6 MB\u001b[0m \u001b[31m72.2 MB/s\u001b[0m eta \u001b[36m0:00:00\u001b[0m\n",
            "\u001b[?25hDownloading rustworkx-0.16.0-cp39-abi3-manylinux_2_17_x86_64.manylinux2014_x86_64.whl (2.1 MB)\n",
            "\u001b[2K   \u001b[90m━━━━━━━━━━━━━━━━━━━━━━━━━━━━━━━━━━━━━━━━\u001b[0m \u001b[32m2.1/2.1 MB\u001b[0m \u001b[31m67.0 MB/s\u001b[0m eta \u001b[36m0:00:00\u001b[0m\n",
            "\u001b[?25hDownloading appdirs-1.4.4-py2.py3-none-any.whl (9.6 kB)\n",
            "Downloading diastatic_malt-2.15.2-py3-none-any.whl (167 kB)\n",
            "\u001b[2K   \u001b[90m━━━━━━━━━━━━━━━━━━━━━━━━━━━━━━━━━━━━━━━━\u001b[0m \u001b[32m167.9/167.9 kB\u001b[0m \u001b[31m13.2 MB/s\u001b[0m eta \u001b[36m0:00:00\u001b[0m\n",
            "\u001b[?25hDownloading scipy_openblas32-0.3.30.0.2-py3-none-manylinux2014_x86_64.manylinux_2_17_x86_64.whl (8.6 MB)\n",
            "\u001b[2K   \u001b[90m━━━━━━━━━━━━━━━━━━━━━━━━━━━━━━━━━━━━━━━━\u001b[0m \u001b[32m8.6/8.6 MB\u001b[0m \u001b[31m75.0 MB/s\u001b[0m eta \u001b[36m0:00:00\u001b[0m\n",
            "\u001b[?25hInstalling collected packages: appdirs, scipy-openblas32, rustworkx, autoray, diastatic-malt, pennylane-lightning, pennylane\n",
            "Successfully installed appdirs-1.4.4 autoray-0.7.2 diastatic-malt-2.15.2 pennylane-0.42.1 pennylane-lightning-0.42.0 rustworkx-0.16.0 scipy-openblas32-0.3.30.0.2\n"
          ]
        }
      ],
      "source": [
        "!pip install pennylane"
      ]
    },
    {
      "cell_type": "code",
      "execution_count": 2,
      "id": "nLwXGWvlBvT3",
      "metadata": {
        "id": "nLwXGWvlBvT3"
      },
      "outputs": [],
      "source": [
        "import torch\n",
        "from torch.utils.data import Subset\n",
        "from torch.utils.data import DataLoader\n",
        "import torchvision\n",
        "import pennylane as qml\n",
        "import numpy as np\n",
        "from torch.nn.parameter import Parameter\n",
        "from torch.optim import Adam\n",
        "from torch.nn import NLLLoss\n",
        "from IPython.display import clear_output"
      ]
    },
    {
      "cell_type": "code",
      "execution_count": 3,
      "id": "cChul3HsBvNX",
      "metadata": {
        "colab": {
          "base_uri": "https://localhost:8080/"
        },
        "id": "cChul3HsBvNX",
        "outputId": "0a60cfaa-a5d6-4b50-fc89-048ae086cd15"
      },
      "outputs": [
        {
          "output_type": "stream",
          "name": "stderr",
          "text": [
            "100%|██████████| 26.4M/26.4M [00:01<00:00, 15.8MB/s]\n",
            "100%|██████████| 29.5k/29.5k [00:00<00:00, 264kB/s]\n",
            "100%|██████████| 4.42M/4.42M [00:00<00:00, 4.48MB/s]\n",
            "100%|██████████| 5.15k/5.15k [00:00<00:00, 13.7MB/s]\n"
          ]
        }
      ],
      "source": [
        "transform = torchvision.transforms.Compose([\n",
        "        torchvision.transforms.ToTensor(),\n",
        "        torchvision.transforms.Normalize((0.5,), (0.5,))\n",
        "        ])\n",
        "\n",
        "train_ds = torchvision.datasets.FashionMNIST(\n",
        "    \"./\", train=True, download=True,\n",
        "    transform=transform)\n",
        "\n",
        "test_ds = torchvision.datasets.FashionMNIST(\n",
        "    \"./\", train=False, download=True,\n",
        "    transform=transform)"
      ]
    },
    {
      "cell_type": "code",
      "execution_count": 4,
      "id": "5dc12000-59b6-48f3-975f-eeb7322fc225",
      "metadata": {
        "id": "5dc12000-59b6-48f3-975f-eeb7322fc225"
      },
      "outputs": [],
      "source": [
        "train_mask = (train_ds.targets == 0) | (train_ds.targets == 6)\n",
        "train_idx = torch.where(train_mask)[0]\n",
        "train_ds.targets[train_ds.targets == 6] = 1\n",
        "\n",
        "binary_train_ds = Subset(train_ds, train_idx)"
      ]
    },
    {
      "cell_type": "code",
      "execution_count": 5,
      "id": "b3b19bcf-ff46-430e-80a9-7116e51cfe62",
      "metadata": {
        "id": "b3b19bcf-ff46-430e-80a9-7116e51cfe62"
      },
      "outputs": [],
      "source": [
        "train_loader = DataLoader(binary_train_ds, batch_size = 64, shuffle =True)"
      ]
    },
    {
      "cell_type": "code",
      "execution_count": 6,
      "id": "e4d00477-0ab9-40f5-8671-f8d61cbdf278",
      "metadata": {
        "id": "e4d00477-0ab9-40f5-8671-f8d61cbdf278"
      },
      "outputs": [],
      "source": [
        "from matplotlib import pyplot as plt"
      ]
    },
    {
      "cell_type": "code",
      "execution_count": 7,
      "id": "1a6d9ed3-0058-4d18-b0c0-52d6654f8294",
      "metadata": {
        "colab": {
          "base_uri": "https://localhost:8080/",
          "height": 448
        },
        "id": "1a6d9ed3-0058-4d18-b0c0-52d6654f8294",
        "outputId": "4988eca3-62fd-4007-d759-985d69db3c41"
      },
      "outputs": [
        {
          "output_type": "execute_result",
          "data": {
            "text/plain": [
              "<matplotlib.image.AxesImage at 0x7bd090170350>"
            ]
          },
          "metadata": {},
          "execution_count": 7
        },
        {
          "output_type": "display_data",
          "data": {
            "text/plain": [
              "<Figure size 640x480 with 1 Axes>"
            ],
            "image/png": "[encoded data removed]"
          },
          "metadata": {}
        }
      ],
      "source": [
        "plt.imshow(binary_train_ds[20][0][0], cmap=\"grey\")"
      ]
    },
    {
      "cell_type": "code",
      "execution_count": 8,
      "id": "44f5cdad-5333-4da7-ab20-822b83233328",
      "metadata": {
        "colab": {
          "base_uri": "https://localhost:8080/",
          "height": 137
        },
        "id": "44f5cdad-5333-4da7-ab20-822b83233328",
        "outputId": "932e5ec3-4cfc-4f41-f4d3-d7f5124d24aa"
      },
      "outputs": [
        {
          "output_type": "display_data",
          "data": {
            "text/plain": [
              "<Figure size 1000x300 with 8 Axes>"
            ],
            "image/png": "[encoded data removed]"
          },
          "metadata": {}
        }
      ],
      "source": [
        "n_samples_show = 8\n",
        "\n",
        "data_iter = iter(train_loader)\n",
        "fig, axes = plt.subplots(nrows=1, ncols=n_samples_show, figsize=(10, 3))\n",
        "\n",
        "while n_samples_show > 0:\n",
        "    images, targets = data_iter.__next__()\n",
        "\n",
        "    axes[n_samples_show - 1].imshow(images[0, 0].numpy().squeeze(), cmap=\"gray\")\n",
        "    axes[n_samples_show - 1].set_xticks([])\n",
        "    axes[n_samples_show - 1].set_yticks([])\n",
        "    axes[n_samples_show - 1].set_title(\"Labeled: {}\".format(targets[0].item()))\n",
        "\n",
        "    n_samples_show -= 1"
      ]
    },
    {
      "cell_type": "code",
      "execution_count": 9,
      "id": "748d8ce6-b263-404d-ba6b-4515e374f982",
      "metadata": {
        "id": "748d8ce6-b263-404d-ba6b-4515e374f982"
      },
      "outputs": [],
      "source": [
        "from torch.nn import Module\n",
        "import torch.nn.functional as F\n",
        "from torch.nn import Conv2d, Dropout2d, Linear, BatchNorm2d\n",
        "from torch import cat"
      ]
    },
    {
      "cell_type": "code",
      "execution_count": 82,
      "id": "30984ac6-e693-474b-bb01-aadaede99149",
      "metadata": {
        "id": "30984ac6-e693-474b-bb01-aadaede99149"
      },
      "outputs": [],
      "source": [
        "torch.set_default_dtype(torch.float64)\n",
        "class BinaryClassifier(Module):\n",
        "    def __init__(self):\n",
        "        super().__init__()\n",
        "        self.conv1 = Conv2d(1, 32, kernel_size=3, padding=1)\n",
        "        self.bn1 = BatchNorm2d(32)\n",
        "        self.conv2 = Conv2d(32, 32, kernel_size=3, padding=1)\n",
        "        self.bn2 = BatchNorm2d(32)\n",
        "        self.dropout = Dropout2d()\n",
        "        self.fc1 = Linear(32*7*7, 8)\n",
        "        self.fc2 = Linear(1, 1)\n",
        "\n",
        "        # Quantum layer\n",
        "        self.q_device = qml.device(\"default.qubit\", wires=8)\n",
        "        self.qnn_params = Parameter(torch.rand(48), requires_grad= True)\n",
        "        self.obs = qml.PauliZ(7)\n",
        "\n",
        "        @qml.qnode(self.q_device)\n",
        "        def circuit(x):\n",
        "            #Feature Encoding\n",
        "            qml.AngleEmbedding(x, range(8), rotation=\"Y\")\n",
        "            #---------------\n",
        "            #Convolution1\n",
        "            for i in range(4):\n",
        "              qml.CNOT(wires=[i*2, i*2+1])\n",
        "            for i in range(8):\n",
        "              qml.RY(self.qnn_params[i], wires=i)\n",
        "            for i in range(4):\n",
        "              qml.CNOT(wires=[i*2+1, (i*2+2)%8])\n",
        "\n",
        "            for i in range(4):\n",
        "              qml.CNOT(wires=[i*2, i*2+1])\n",
        "            for i in range(8):\n",
        "              qml.RY(self.qnn_params[i+8], wires=i)\n",
        "            for i in range(4):\n",
        "              qml.CNOT(wires=[i*2+1, (i*2+2)%8])\n",
        "\n",
        "            for i in range(4):\n",
        "              qml.CNOT(wires=[i*2, i*2+1])\n",
        "            for i in range(8):\n",
        "              qml.RY(self.qnn_params[i+16], wires=i)\n",
        "            for i in range(4):\n",
        "              qml.CNOT(wires=[i*2+1, (i*2+2)%8])\n",
        "            #---------------\n",
        "            #Pooling1\n",
        "            for i in range(4):\n",
        "              qml.CNOT(wires=[i*2+1, i*2])\n",
        "            for i in range(8):\n",
        "              qml.RY(self.qnn_params[i+24], wires=i)\n",
        "            for i in range(4):\n",
        "              qml.CNOT(wires=[i*2, i*2+1])\n",
        "            #----------------\n",
        "            #Convolution2\n",
        "            for i in range(2):\n",
        "              qml.CNOT(wires=[i*4+1, i*4+3])\n",
        "            for i in range(4):\n",
        "              qml.RY(self.qnn_params[i+32], wires=2*i+1)\n",
        "            for i in range(2):\n",
        "              qml.CNOT(wires=[i*4+3, (i*4+5)%8])\n",
        "\n",
        "            for i in range(2):\n",
        "              qml.CNOT(wires=[i*4+1, i*4+3])\n",
        "            for i in range(4):\n",
        "              qml.RY(self.qnn_params[i+36], wires=2*i+1)\n",
        "            for i in range(2):\n",
        "              qml.CNOT(wires=[i*4+3, (i*4+5)%8])\n",
        "            #---------------\n",
        "            #Pooling2\n",
        "            for i in range(2):\n",
        "              qml.CNOT(wires=[i*4+3, i*4+1])\n",
        "            for i in range(4):\n",
        "              qml.RY(self.qnn_params[i+40], wires=i*2+1)\n",
        "            for i in range(2):\n",
        "              qml.CNOT(wires=[i*4+1, i*4+3])\n",
        "            #---------------\n",
        "            #Convolution3\n",
        "            qml.RY(self.qnn_params[44], wires=3)\n",
        "            qml.RY(self.qnn_params[45], wires=7)\n",
        "            qml.CNOT(wires=[3, 7])\n",
        "            #---------------\n",
        "            #Pooling3\n",
        "            qml.CNOT(wires=[7, 3])\n",
        "            qml.RY(self.qnn_params[46], wires=3)\n",
        "            qml.RY(self.qnn_params[47], wires=7)\n",
        "            qml.CNOT(wires=[3, 7])\n",
        "\n",
        "            return qml.expval(self.obs)\n",
        "\n",
        "        self.qnn = circuit\n",
        "\n",
        "    def forward(self, x):\n",
        "        x = F.relu(self.bn1(self.conv1(x)))\n",
        "        x = F.max_pool2d(x, 2)\n",
        "        x = F.relu(self.bn2(self.conv2(x)))\n",
        "        x = F.max_pool2d(x, 2)\n",
        "        x = self.dropout(x)\n",
        "        x = x.view(-1,32*7*7)\n",
        "        x = self.fc1(x)\n",
        "        x = self.qnn(x).view(-1,1)  # apply QNN\n",
        "        x = self.fc2(x)\n",
        "        return F.log_softmax(cat((x, 1 - x), -1), -1)"
      ]
    },
    {
      "cell_type": "code",
      "execution_count": 83,
      "id": "962f6cdd-2cb5-4ac0-90c3-d346c35dcf54",
      "metadata": {
        "colab": {
          "base_uri": "https://localhost:8080/"
        },
        "id": "962f6cdd-2cb5-4ac0-90c3-d346c35dcf54",
        "outputId": "605b361b-b1fc-4a6a-bfe6-df288ba40e91"
      },
      "outputs": [
        {
          "output_type": "execute_result",
          "data": {
            "text/plain": [
              "BinaryClassifier(\n",
              "  (conv1): Conv2d(1, 32, kernel_size=(3, 3), stride=(1, 1), padding=(1, 1))\n",
              "  (bn1): BatchNorm2d(32, eps=1e-05, momentum=0.1, affine=True, track_running_stats=True)\n",
              "  (conv2): Conv2d(32, 32, kernel_size=(3, 3), stride=(1, 1), padding=(1, 1))\n",
              "  (bn2): BatchNorm2d(32, eps=1e-05, momentum=0.1, affine=True, track_running_stats=True)\n",
              "  (dropout): Dropout2d(p=0.5, inplace=False)\n",
              "  (fc1): Linear(in_features=1568, out_features=8, bias=True)\n",
              "  (fc2): Linear(in_features=1, out_features=1, bias=True)\n",
              ")"
            ]
          },
          "metadata": {},
          "execution_count": 83
        }
      ],
      "source": [
        "bc = BinaryClassifier()\n",
        "device = torch.device(\"cuda\" if torch.cuda.is_available() else \"cpu\")\n",
        "bc.to(device)"
      ]
    },
    {
      "cell_type": "code",
      "execution_count": 84,
      "id": "XbvjP2r240Cs",
      "metadata": {
        "colab": {
          "base_uri": "https://localhost:8080/"
        },
        "id": "XbvjP2r240Cs",
        "outputId": "bc327fa1-047e-4999-bb08-e31b7a514c93"
      },
      "outputs": [
        {
          "output_type": "stream",
          "name": "stdout",
          "text": [
            "Total number of trainable parameters: 22298\n"
          ]
        }
      ],
      "source": [
        "# prompt: bc의 전체 학습 가중치 파라미터 개수를 알라보려면? 영어로 출력\n",
        "\n",
        "total_params = sum(p.numel() for p in bc.parameters() if p.requires_grad)\n",
        "print(f\"Total number of trainable parameters: {total_params}\")"
      ]
    },
    {
      "cell_type": "code",
      "execution_count": 85,
      "id": "K9GyWVZjyM8c",
      "metadata": {
        "colab": {
          "base_uri": "https://localhost:8080/"
        },
        "id": "K9GyWVZjyM8c",
        "outputId": "c731d326-0c04-43f2-91b7-efa52ff55b2b"
      },
      "outputs": [
        {
          "output_type": "stream",
          "name": "stderr",
          "text": [
            "/tmp/ipython-input-85-2583479.py:4: UserWarning: To copy construct from a tensor, it is recommended to use sourceTensor.clone().detach() or sourceTensor.clone().detach().requires_grad_(True), rather than torch.tensor(sourceTensor).\n",
            "  dummy_x = torch.tensor(torch.rand(2,8), dtype=torch.float64)\n"
          ]
        }
      ],
      "source": [
        "# ───── 학습 전에 회로 제약 먼저 점검 ─────\n",
        "import pennylane as qml, torch\n",
        "\n",
        "dummy_x = torch.tensor(torch.rand(2,8), dtype=torch.float64)\n",
        "specs = qml.specs(bc.qnn)(dummy_x)"
      ]
    },
    {
      "cell_type": "code",
      "execution_count": 86,
      "id": "3036rBq5Dg-4",
      "metadata": {
        "colab": {
          "base_uri": "https://localhost:8080/",
          "height": 644
        },
        "id": "3036rBq5Dg-4",
        "outputId": "3ab9da11-2030-415a-a631-b14c5ae16355"
      },
      "outputs": [
        {
          "output_type": "stream",
          "name": "stdout",
          "text": [
            "0: ─╭AngleEmbedding(M0)─╭●──RY(0.99)────╭X─╭●──RY(1.00)────╭X─╭●──RY(0.70)────╭X─╭X──RY(0.21)─╭● ···\n",
            "1: ─├AngleEmbedding(M0)─╰X──RY(0.72)─╭●─│──╰X──RY(0.62)─╭●─│──╰X──RY(0.42)─╭●─│──╰●──RY(0.07)─╰X ···\n",
            "2: ─├AngleEmbedding(M0)─╭●──RY(0.38)─╰X─│──╭●──RY(0.58)─╰X─│──╭●──RY(0.52)─╰X─│──╭X──RY(0.30)─╭● ···\n",
            "3: ─├AngleEmbedding(M0)─╰X──RY(0.73)─╭●─│──╰X──RY(0.23)─╭●─│──╰X──RY(0.90)─╭●─│──╰●──RY(0.34)─╰X ···\n",
            "4: ─├AngleEmbedding(M0)─╭●──RY(0.09)─╰X─│──╭●──RY(0.72)─╰X─│──╭●──RY(0.41)─╰X─│──╭X──RY(0.51)─╭● ···\n",
            "5: ─├AngleEmbedding(M0)─╰X──RY(0.85)─╭●─│──╰X──RY(0.33)─╭●─│──╰X──RY(0.50)─╭●─│──╰●──RY(0.65)─╰X ···\n",
            "6: ─├AngleEmbedding(M0)─╭●──RY(0.12)─╰X─│──╭●──RY(0.32)─╰X─│──╭●──RY(0.84)─╰X─│──╭X──RY(0.44)─╭● ···\n",
            "7: ─╰AngleEmbedding(M0)─╰X──RY(0.83)────╰●─╰X──RY(0.29)────╰●─╰X──RY(0.62)────╰●─╰●──RY(0.07)─╰X ···\n",
            "\n",
            "0: ··· ────────────────────────────────────────────────────────────────────────────────────┤     \n",
            "1: ··· ─╭●──RY(0.56)────╭X─╭●──RY(0.18)────╭X─╭X──RY(0.45)─╭●──────────────────────────────┤     \n",
            "2: ··· ─│───────────────│──│───────────────│──│────────────│───────────────────────────────┤     \n",
            "3: ··· ─╰X──RY(0.08)─╭●─│──╰X──RY(0.87)─╭●─│──╰●──RY(0.05)─╰X──RY(0.04)─╭●─╭X──RY(0.76)─╭●─┤     \n",
            "4: ··· ──────────────│──│───────────────│──│────────────────────────────│──│────────────│──┤     \n",
            "5: ··· ─╭●──RY(0.21)─╰X─│──╭●──RY(0.36)─╰X─│──╭X──RY(0.61)─╭●───────────│──│────────────│──┤     \n",
            "6: ··· ─│───────────────│──│───────────────│──│────────────│────────────│──│────────────│──┤     \n",
            "7: ··· ─╰X──RY(0.27)────╰●─╰X──RY(0.16)────╰●─╰●──RY(0.37)─╰X──RY(0.43)─╰X─╰●──RY(0.99)─╰X─┤  <Z>\n",
            "\n",
            "M0 = \n",
            "tensor([[0.4478, 0.5408, 0.8100, 0.1801, 0.3306, 0.3015, 0.6338, 0.3772],\n",
            "        [0.9697, 0.9124, 0.2932, 0.6650, 0.9953, 0.2813, 0.1291, 0.1992]])\n"
          ]
        },
        {
          "output_type": "execute_result",
          "data": {
            "text/plain": [
              "(<Figure size 3500x900 with 1 Axes>, <Axes: >)"
            ]
          },
          "metadata": {},
          "execution_count": 86
        },
        {
          "output_type": "display_data",
          "data": {
            "text/plain": [
              "<Figure size 3500x900 with 1 Axes>"
            ],
            "image/png": "[encoded data removed]"
          },
          "metadata": {}
        }
      ],
      "source": [
        "print(qml.draw(bc.qnn)(dummy_x))\n",
        "qml.draw_mpl(bc.qnn)(dummy_x)"
      ]
    },
    {
      "cell_type": "code",
      "execution_count": 87,
      "id": "Cd5gteG9LLIw",
      "metadata": {
        "colab": {
          "base_uri": "https://localhost:8080/"
        },
        "id": "Cd5gteG9LLIw",
        "outputId": "faa1cf75-2bb8-475c-b146-3d927e84c7dc"
      },
      "outputs": [
        {
          "output_type": "execute_result",
          "data": {
            "text/plain": [
              "{'resources': Resources(num_wires=8, num_gates=96, gate_types=defaultdict(<class 'int'>, {'AngleEmbedding': 1, 'CNOT': 47, 'RY': 48}), gate_sizes=defaultdict(<class 'int'>, {8: 1, 2: 47, 1: 48}), depth=27, shots=Shots(total_shots=None, shot_vector=())),\n",
              " 'errors': {},\n",
              " 'num_observables': 1,\n",
              " 'num_trainable_params': 48,\n",
              " 'num_device_wires': 8,\n",
              " 'num_tape_wires': 8,\n",
              " 'device_name': 'default.qubit',\n",
              " 'level': 'gradient',\n",
              " 'gradient_options': {},\n",
              " 'interface': 'auto',\n",
              " 'diff_method': 'best',\n",
              " 'gradient_fn': 'backprop'}"
            ]
          },
          "metadata": {},
          "execution_count": 87
        }
      ],
      "source": [
        "specs"
      ]
    },
    {
      "cell_type": "code",
      "execution_count": 88,
      "id": "9P00jyeDLKFo",
      "metadata": {
        "colab": {
          "base_uri": "https://localhost:8080/"
        },
        "id": "9P00jyeDLKFo",
        "outputId": "f6bfd4e8-0eda-4b66-82eb-c5ed4ae27023"
      },
      "outputs": [
        {
          "output_type": "stream",
          "name": "stdout",
          "text": [
            "✅ 회로 제약 통과 — 학습을 계속합니다\n"
          ]
        }
      ],
      "source": [
        "assert specs[\"num_tape_wires\"] <= 8,  \"❌ 큐빗 수 초과\"\n",
        "assert specs['resources'].depth <= 30, \"❌ 회로 깊이 초과\"\n",
        "assert specs[\"num_trainable_params\"]<= 60, \"❌ 학습 퀀텀 파라미터 수 초과\"\n",
        "assert total_params <= 50000, \"❌ 학습 전체 파라미터 수 초과\"\n",
        "\n",
        "print(\"✅ 회로 제약 통과 — 학습을 계속합니다\")"
      ]
    },
    {
      "cell_type": "code",
      "execution_count": 89,
      "id": "732e3ac0-4af7-48fc-9344-0a0569aa45c7",
      "metadata": {
        "colab": {
          "base_uri": "https://localhost:8080/"
        },
        "id": "732e3ac0-4af7-48fc-9344-0a0569aa45c7",
        "outputId": "b82aacae-5284-41db-945a-3c53807a90b0"
      },
      "outputs": [
        {
          "output_type": "execute_result",
          "data": {
            "text/plain": [
              "188"
            ]
          },
          "metadata": {},
          "execution_count": 89
        }
      ],
      "source": [
        "len(iter(train_loader))"
      ]
    },
    {
      "cell_type": "code",
      "execution_count": 90,
      "id": "63c3b336-ebfa-4db1-8796-0b1fec590b69",
      "metadata": {
        "id": "63c3b336-ebfa-4db1-8796-0b1fec590b69"
      },
      "outputs": [],
      "source": [
        "data, target = next(iter(train_loader))"
      ]
    },
    {
      "cell_type": "code",
      "execution_count": 91,
      "id": "7bd41aef-c008-424e-a65c-62d7b2042f2d",
      "metadata": {
        "colab": {
          "base_uri": "https://localhost:8080/"
        },
        "id": "7bd41aef-c008-424e-a65c-62d7b2042f2d",
        "outputId": "1974ab67-fb5b-4ae3-dd20-5dc4228f9a00"
      },
      "outputs": [
        {
          "output_type": "execute_result",
          "data": {
            "text/plain": [
              "BinaryClassifier(\n",
              "  (conv1): Conv2d(1, 32, kernel_size=(3, 3), stride=(1, 1), padding=(1, 1))\n",
              "  (bn1): BatchNorm2d(32, eps=1e-05, momentum=0.1, affine=True, track_running_stats=True)\n",
              "  (conv2): Conv2d(32, 32, kernel_size=(3, 3), stride=(1, 1), padding=(1, 1))\n",
              "  (bn2): BatchNorm2d(32, eps=1e-05, momentum=0.1, affine=True, track_running_stats=True)\n",
              "  (dropout): Dropout2d(p=0.5, inplace=False)\n",
              "  (fc1): Linear(in_features=1568, out_features=8, bias=True)\n",
              "  (fc2): Linear(in_features=1, out_features=1, bias=True)\n",
              ")"
            ]
          },
          "metadata": {},
          "execution_count": 91
        }
      ],
      "source": [
        "# optimizer = Adam(bc.parameters(), lr=0.0005)\n",
        "optimizer = torch.optim.NAdam(bc.parameters(), lr=0.0001)\n",
        "loss_func  = NLLLoss()\n",
        "\n",
        "loss_history = []\n",
        "bc.train()"
      ]
    },
    {
      "cell_type": "code",
      "execution_count": 92,
      "id": "ee582e81-3ca8-4b17-8a64-c528c0a6eadb",
      "metadata": {
        "colab": {
          "base_uri": "https://localhost:8080/"
        },
        "id": "ee582e81-3ca8-4b17-8a64-c528c0a6eadb",
        "outputId": "9656c8ac-9380-4b83-e209-bdc44a540f44"
      },
      "outputs": [
        {
          "output_type": "execute_result",
          "data": {
            "text/plain": [
              "torch.Size([64, 1, 28, 28])"
            ]
          },
          "metadata": {},
          "execution_count": 92
        }
      ],
      "source": [
        "data.shape"
      ]
    },
    {
      "cell_type": "code",
      "execution_count": 93,
      "id": "HqvNND9pJ2hx",
      "metadata": {
        "id": "HqvNND9pJ2hx"
      },
      "outputs": [],
      "source": [
        "from tqdm import tqdm\n",
        "from datetime import datetime"
      ]
    },
    {
      "cell_type": "code",
      "execution_count": 96,
      "id": "vrIfeKHYIr21",
      "metadata": {
        "colab": {
          "base_uri": "https://localhost:8080/",
          "height": 557
        },
        "id": "vrIfeKHYIr21",
        "outputId": "56bc657f-5440-4cae-d0d4-05ad27410150"
      },
      "outputs": [
        {
          "output_type": "stream",
          "name": "stdout",
          "text": [
            "Iteration [1/15], Loss: 0.2828, Accuracy: 0.8890\n",
            "Iteration [2/15], Loss: 0.2125, Accuracy: 0.8945\n",
            "Iteration [3/15], Loss: 0.1999, Accuracy: 0.8895\n",
            "Iteration [4/15], Loss: 0.1895, Accuracy: 0.8935\n",
            "Iteration [5/15], Loss: 0.1795, Accuracy: 0.8950\n",
            "Iteration [6/15], Loss: 0.1701, Accuracy: 0.8900\n",
            "Iteration [7/15], Loss: 0.1617, Accuracy: 0.8840\n",
            "Iteration [8/15], Loss: 0.1523, Accuracy: 0.8930\n"
          ]
        },
        {
          "output_type": "stream",
          "name": "stderr",
          "text": []
        },
        {
          "output_type": "error",
          "ename": "KeyboardInterrupt",
          "evalue": "",
          "traceback": [
            "\u001b[0;31m---------------------------------------------------------------------------\u001b[0m",
            "\u001b[0;31mKeyboardInterrupt\u001b[0m                         Traceback (most recent call last)",
            "\u001b[0;32m/tmp/ipython-input-96-3388846478.py\u001b[0m in \u001b[0;36m<cell line: 0>\u001b[0;34m()\u001b[0m\n\u001b[1;32m     56\u001b[0m \u001b[0;34m\u001b[0m\u001b[0m\n\u001b[1;32m     57\u001b[0m           \u001b[0mtotal_loss\u001b[0m\u001b[0;34m.\u001b[0m\u001b[0mappend\u001b[0m\u001b[0;34m(\u001b[0m\u001b[0mloss\u001b[0m\u001b[0;34m.\u001b[0m\u001b[0mitem\u001b[0m\u001b[0;34m(\u001b[0m\u001b[0;34m)\u001b[0m\u001b[0;34m)\u001b[0m\u001b[0;34m\u001b[0m\u001b[0;34m\u001b[0m\u001b[0m\n\u001b[0;32m---> 58\u001b[0;31m           \u001b[0mloss\u001b[0m\u001b[0;34m.\u001b[0m\u001b[0mbackward\u001b[0m\u001b[0;34m(\u001b[0m\u001b[0;34m)\u001b[0m\u001b[0;34m\u001b[0m\u001b[0;34m\u001b[0m\u001b[0m\n\u001b[0m\u001b[1;32m     59\u001b[0m           \u001b[0moptimizer\u001b[0m\u001b[0;34m.\u001b[0m\u001b[0mstep\u001b[0m\u001b[0;34m(\u001b[0m\u001b[0;34m)\u001b[0m\u001b[0;34m\u001b[0m\u001b[0;34m\u001b[0m\u001b[0m\n\u001b[1;32m     60\u001b[0m \u001b[0;34m\u001b[0m\u001b[0m\n",
            "\u001b[0;32m/usr/local/lib/python3.11/dist-packages/torch/_tensor.py\u001b[0m in \u001b[0;36mbackward\u001b[0;34m(self, gradient, retain_graph, create_graph, inputs)\u001b[0m\n\u001b[1;32m    624\u001b[0m                 \u001b[0minputs\u001b[0m\u001b[0;34m=\u001b[0m\u001b[0minputs\u001b[0m\u001b[0;34m,\u001b[0m\u001b[0;34m\u001b[0m\u001b[0;34m\u001b[0m\u001b[0m\n\u001b[1;32m    625\u001b[0m             )\n\u001b[0;32m--> 626\u001b[0;31m         torch.autograd.backward(\n\u001b[0m\u001b[1;32m    627\u001b[0m             \u001b[0mself\u001b[0m\u001b[0;34m,\u001b[0m \u001b[0mgradient\u001b[0m\u001b[0;34m,\u001b[0m \u001b[0mretain_graph\u001b[0m\u001b[0;34m,\u001b[0m \u001b[0mcreate_graph\u001b[0m\u001b[0;34m,\u001b[0m \u001b[0minputs\u001b[0m\u001b[0;34m=\u001b[0m\u001b[0minputs\u001b[0m\u001b[0;34m\u001b[0m\u001b[0;34m\u001b[0m\u001b[0m\n\u001b[1;32m    628\u001b[0m         )\n",
            "\u001b[0;32m/usr/local/lib/python3.11/dist-packages/torch/autograd/__init__.py\u001b[0m in \u001b[0;36mbackward\u001b[0;34m(tensors, grad_tensors, retain_graph, create_graph, grad_variables, inputs)\u001b[0m\n\u001b[1;32m    345\u001b[0m     \u001b[0;31m# some Python versions print out the first line of a multi-line function\u001b[0m\u001b[0;34m\u001b[0m\u001b[0;34m\u001b[0m\u001b[0m\n\u001b[1;32m    346\u001b[0m     \u001b[0;31m# calls in the traceback and some print out the last line\u001b[0m\u001b[0;34m\u001b[0m\u001b[0;34m\u001b[0m\u001b[0m\n\u001b[0;32m--> 347\u001b[0;31m     _engine_run_backward(\n\u001b[0m\u001b[1;32m    348\u001b[0m         \u001b[0mtensors\u001b[0m\u001b[0;34m,\u001b[0m\u001b[0;34m\u001b[0m\u001b[0;34m\u001b[0m\u001b[0m\n\u001b[1;32m    349\u001b[0m         \u001b[0mgrad_tensors_\u001b[0m\u001b[0;34m,\u001b[0m\u001b[0;34m\u001b[0m\u001b[0;34m\u001b[0m\u001b[0m\n",
            "\u001b[0;32m/usr/local/lib/python3.11/dist-packages/torch/autograd/graph.py\u001b[0m in \u001b[0;36m_engine_run_backward\u001b[0;34m(t_outputs, *args, **kwargs)\u001b[0m\n\u001b[1;32m    821\u001b[0m         \u001b[0munregister_hooks\u001b[0m \u001b[0;34m=\u001b[0m \u001b[0m_register_logging_hooks_on_whole_graph\u001b[0m\u001b[0;34m(\u001b[0m\u001b[0mt_outputs\u001b[0m\u001b[0;34m)\u001b[0m\u001b[0;34m\u001b[0m\u001b[0;34m\u001b[0m\u001b[0m\n\u001b[1;32m    822\u001b[0m     \u001b[0;32mtry\u001b[0m\u001b[0;34m:\u001b[0m\u001b[0;34m\u001b[0m\u001b[0;34m\u001b[0m\u001b[0m\n\u001b[0;32m--> 823\u001b[0;31m         return Variable._execution_engine.run_backward(  # Calls into the C++ engine to run the backward pass\n\u001b[0m\u001b[1;32m    824\u001b[0m             \u001b[0mt_outputs\u001b[0m\u001b[0;34m,\u001b[0m \u001b[0;34m*\u001b[0m\u001b[0margs\u001b[0m\u001b[0;34m,\u001b[0m \u001b[0;34m**\u001b[0m\u001b[0mkwargs\u001b[0m\u001b[0;34m\u001b[0m\u001b[0;34m\u001b[0m\u001b[0m\n\u001b[1;32m    825\u001b[0m         )  # Calls into the C++ engine to run the backward pass\n",
            "\u001b[0;31mKeyboardInterrupt\u001b[0m: "
          ]
        }
      ],
      "source": [
        "device = torch.device(\"cuda\" if torch.cuda.is_available() else \"cpu\")\n",
        "bc.to(device)\n",
        "epochs = 2\n",
        "iterations = 15\n",
        "iteration_history = []\n",
        "theta = 0.4\n",
        "\n",
        "### theta까지는 학습만\n",
        "while True:\n",
        "  clear_output(wait=True)\n",
        "  epoch_bar = tqdm(range(len(train_loader)),\n",
        "                  desc=f\"Epoch (just training)\",\n",
        "                  leave=False)   # leave=False면 다음 에폭 때 덮어씀\n",
        "\n",
        "  total_loss = []\n",
        "  for bidx, (data, target) in zip(epoch_bar, train_loader):\n",
        "      optimizer.zero_grad(set_to_none=True)\n",
        "      data, target = data.to(device), target.to(device)\n",
        "      output = bc(data)\n",
        "      loss   = loss_func(output, target.squeeze())\n",
        "\n",
        "      total_loss.append(loss.item())\n",
        "      loss.backward()\n",
        "      optimizer.step()\n",
        "\n",
        "      # 100배치마다 postfix로 현재 상태 표시\n",
        "      if bidx % 100 == 0:\n",
        "          epoch_bar.set_postfix(batch=bidx,\n",
        "                                loss=f\"{loss.item():.4f}\")\n",
        "\n",
        "  # 에폭 끝나면 전체 loss 기록\n",
        "  avg_loss = sum(total_loss) / len(total_loss)\n",
        "  loss_history.append(avg_loss)\n",
        "\n",
        "  # 에폭 요약 한 줄 출력 (leave=False였으면 이게 마지막 줄로 남음)\n",
        "  print(f\"Training \"\n",
        "        f\"Loss: {avg_loss:.4f}\")\n",
        "\n",
        "  if avg_loss < theta:\n",
        "    break\n",
        "\n",
        "### 학습 및 평가\n",
        "for iteration in range(iterations):\n",
        "  for epoch in range(epochs):\n",
        "      # 에폭 진행률 바\n",
        "      epoch_bar = tqdm(range(len(train_loader)),\n",
        "                      desc=f\"Epoch {epoch+1}/{epochs}\",\n",
        "                      leave=False)   # leave=False면 다음 에폭 때 덮어씀\n",
        "\n",
        "      total_loss = []\n",
        "      for bidx, (data, target) in zip(epoch_bar, train_loader):\n",
        "          optimizer.zero_grad(set_to_none=True)\n",
        "          data, target = data.to(device), target.to(device)\n",
        "          output = bc(data)\n",
        "          loss   = loss_func(output, target.squeeze())\n",
        "\n",
        "          total_loss.append(loss.item())\n",
        "          loss.backward()\n",
        "          optimizer.step()\n",
        "\n",
        "          # 100배치마다 postfix로 현재 상태 표시\n",
        "          if bidx % 100 == 0:\n",
        "              epoch_bar.set_postfix(batch=bidx,\n",
        "                                    loss=f\"{loss.item():.4f}\")\n",
        "\n",
        "      # 에폭 끝나면 전체 loss 기록\n",
        "      avg_loss = sum(total_loss) / len(total_loss)\n",
        "      loss_history.append(avg_loss)\n",
        "\n",
        "      # 에폭 요약 한 줄 출력 (leave=False였으면 이게 마지막 줄로 남음)\n",
        "      print(f\"Training [{100.0 * (epoch+1)/epochs:.0f}%] \"\n",
        "            f\"Loss: {avg_loss:.4f}\")\n",
        "\n",
        "\n",
        "\n",
        "  ### 모델 추론\n",
        "  test_loader = DataLoader(\n",
        "      test_ds,\n",
        "      batch_size=1,\n",
        "      shuffle=False\n",
        "  )\n",
        "\n",
        "  bc.eval()\n",
        "\n",
        "  all_preds, all_targets = [], []\n",
        "\n",
        "  with torch.no_grad():\n",
        "      for data, target in tqdm(test_loader,\n",
        "                              desc=\"Inference\",\n",
        "                              total=len(test_loader),\n",
        "                              leave=False):\n",
        "          data, target = data.to(device), target.to(device)\n",
        "\n",
        "          logits = bc(data)\n",
        "\n",
        "          pred = logits.argmax().view(1)\n",
        "\n",
        "          all_preds.append(pred.cpu())\n",
        "          all_targets.append(target.view(-1).cpu())\n",
        "\n",
        "  y_pred = torch.cat(all_preds).numpy().astype(int)\n",
        "  y_true = torch.cat(all_targets).numpy().astype(int)\n",
        "\n",
        "  ### 평가 및 결과 저장\n",
        "  # 0·6 라벨만 평가\n",
        "  test_mask = (y_true == 0) | (y_true == 6)\n",
        "\n",
        "  # print(\"total samples:\", len(y_true))\n",
        "  # print(\"target samples:\", test_mask.sum())\n",
        "\n",
        "  # 모델 결과가 1인 것을 6으로 변경\n",
        "  y_pred_mapped = np.where(y_pred == 1, 6, y_pred)\n",
        "\n",
        "  acc = (y_pred_mapped[test_mask] == y_true[test_mask]).mean()\n",
        "  iteration_history.append([avg_loss, acc])\n",
        "  clear_output(wait=True)\n",
        "  for i in range(len(iteration_history)):\n",
        "    print(f\"Iteration [{i+1}/{iterations}], \"\n",
        "          f\"Loss: {iteration_history[i][0]:.4f}, \"\n",
        "          f\"Accuracy: {iteration_history[i][1]:.4f}\")\n",
        "\n",
        "\n",
        "  # 현재 시각을 \"YYYYMMDD_HHMMSS\" 형식으로 포맷팅\n",
        "  now = datetime.now().strftime(\"%Y%m%d_%H%M%S\")\n",
        "\n",
        "  # 원본 파일명을 기반으로 새 파일명 생성\n",
        "  y_pred_filename = f\"y_pred_{now}.csv\"\n",
        "\n",
        "  np.savetxt(y_pred_filename, y_pred_mapped, fmt=\"%d\")\n",
        "  torch.save(bc.state_dict(), f\"params_{now}.pth\")"
      ]
    },
    {
      "cell_type": "code",
      "execution_count": 67,
      "id": "PxTZrre85CXh",
      "metadata": {
        "colab": {
          "base_uri": "https://localhost:8080/"
        },
        "id": "PxTZrre85CXh",
        "outputId": "06b33a1c-c75d-4dd0-efc3-3fe15774905b"
      },
      "outputs": [
        {
          "output_type": "stream",
          "name": "stdout",
          "text": [
            "first loss: 0.38608683473807115, last loss: 0.12215304431180682\n"
          ]
        }
      ],
      "source": [
        "print(f\"first loss: {loss_history[0]}, last loss: {loss_history[-1]}\")"
      ]
    },
    {
      "cell_type": "markdown",
      "id": "6sj_00nJfXJb",
      "metadata": {
        "id": "6sj_00nJfXJb"
      },
      "source": [
        "# ..."
      ]
    },
    {
      "cell_type": "code",
      "execution_count": null,
      "id": "5a00a12f-e4ca-4152-837b-f352d57cdd30",
      "metadata": {
        "id": "5a00a12f-e4ca-4152-837b-f352d57cdd30"
      },
      "outputs": [],
      "source": [
        "from tqdm import tqdm\n",
        "\n",
        "device = torch.device(\"cuda\" if torch.cuda.is_available() else \"cpu\")\n",
        "bc.to(device)\n",
        "epochs = 5\n",
        "\n",
        "for epoch in range(epochs):\n",
        "    # 에폭 진행률 바\n",
        "    epoch_bar = tqdm(range(len(train_loader)),\n",
        "                     desc=f\"Epoch {epoch+1}/{epochs}\",\n",
        "                     leave=False)   # leave=False면 다음 에폭 때 덮어씀\n",
        "\n",
        "    total_loss = []\n",
        "    for bidx, (data, target) in zip(epoch_bar, train_loader):\n",
        "        optimizer.zero_grad(set_to_none=True)\n",
        "        data, target = data.to(device), target.to(device)\n",
        "        output = bc(data)\n",
        "        loss   = loss_func(output, target.squeeze())\n",
        "\n",
        "        total_loss.append(loss.item())\n",
        "        loss.backward()\n",
        "        optimizer.step()\n",
        "\n",
        "        # 100배치마다 postfix로 현재 상태 표시\n",
        "        if bidx % 100 == 0:\n",
        "            epoch_bar.set_postfix(batch=bidx,\n",
        "                                  loss=f\"{loss.item():.4f}\")\n",
        "\n",
        "    # 에폭 끝나면 전체 loss 기록\n",
        "    avg_loss = sum(total_loss) / len(total_loss)\n",
        "    loss_history.append(avg_loss)\n",
        "\n",
        "    #loss history 그리기\n",
        "    clear_output(wait=True)\n",
        "    plt.figure(figsize=(6, 4))\n",
        "    plt.plot(loss_history, marker='o')\n",
        "    plt.title(\"Training Loss History\")\n",
        "    plt.xlabel(\"Epoch\")\n",
        "    plt.ylabel(\"Loss\")\n",
        "    plt.grid()\n",
        "    plt.show()\n",
        "\n",
        "    # 에폭 요약 한 줄 출력 (leave=False였으면 이게 마지막 줄로 남음)\n",
        "    print(f\"Training [{100.0 * (epoch+1)/epochs:.0f}%] \"\n",
        "          f\"Loss: {avg_loss:.4f}\")\n"
      ]
    },
    {
      "cell_type": "markdown",
      "id": "T0GtZULeavQ5",
      "metadata": {
        "id": "T0GtZULeavQ5"
      },
      "source": [
        "# 모델 추론"
      ]
    },
    {
      "cell_type": "code",
      "execution_count": null,
      "id": "2izX1vUBbE0z",
      "metadata": {
        "colab": {
          "base_uri": "https://localhost:8080/"
        },
        "id": "2izX1vUBbE0z",
        "outputId": "883920cc-81c5-454d-9670-0fd4b394a07b"
      },
      "outputs": [
        {
          "name": "stderr",
          "output_type": "stream",
          "text": []
        }
      ],
      "source": [
        "from datetime import datetime\n",
        "\n",
        "test_loader = DataLoader(\n",
        "    test_ds,\n",
        "    batch_size=1,\n",
        "    shuffle=False\n",
        ")\n",
        "\n",
        "bc.eval()\n",
        "\n",
        "all_preds, all_targets = [], []\n",
        "\n",
        "with torch.no_grad():\n",
        "    for data, target in tqdm(test_loader,\n",
        "                             desc=\"Inference\",\n",
        "                             total=len(test_loader),\n",
        "                             leave=False):\n",
        "        data, target = data.to(device), target.to(device)\n",
        "\n",
        "        logits = bc(data)\n",
        "\n",
        "        pred = logits.argmax().view(1)\n",
        "\n",
        "        all_preds.append(pred.cpu())\n",
        "        all_targets.append(target.view(-1).cpu())\n",
        "\n",
        "y_pred = torch.cat(all_preds).numpy().astype(int)\n",
        "y_true = torch.cat(all_targets).numpy().astype(int)"
      ]
    },
    {
      "cell_type": "markdown",
      "id": "6VFFoiSkipiZ",
      "metadata": {
        "id": "6VFFoiSkipiZ"
      },
      "source": [
        " # 평가 및 결과 저장"
      ]
    },
    {
      "cell_type": "code",
      "execution_count": null,
      "id": "GDLQdg44VM_j",
      "metadata": {
        "colab": {
          "base_uri": "https://localhost:8080/"
        },
        "id": "GDLQdg44VM_j",
        "outputId": "ae873539-4c7c-4a97-b838-9853d9cd5677"
      },
      "outputs": [
        {
          "name": "stdout",
          "output_type": "stream",
          "text": [
            "total samples: 10000\n",
            "target samples: 2000\n",
            "accuracy (labels 0/6 only): 0.8980\n"
          ]
        }
      ],
      "source": [
        "# 0·6 라벨만 평가\n",
        "test_mask = (y_true == 0) | (y_true == 6)\n",
        "\n",
        "print(\"total samples:\", len(y_true))\n",
        "print(\"target samples:\", test_mask.sum())\n",
        "\n",
        "# 모델 결과가 1인 것을 6으로 변경\n",
        "y_pred_mapped = np.where(y_pred == 1, 6, y_pred)\n",
        "\n",
        "acc = (y_pred_mapped[test_mask] == y_true[test_mask]).mean()\n",
        "print(f\"accuracy (labels 0/6 only): {acc:.4f}\")"
      ]
    },
    {
      "cell_type": "code",
      "execution_count": null,
      "id": "BdTFuLPxil_z",
      "metadata": {
        "id": "BdTFuLPxil_z"
      },
      "outputs": [],
      "source": [
        "# 0·6 라벨만 평가\n",
        "test_mask = (y_true == 0) | (y_true == 6)\n",
        "\n",
        "print(\"total samples:\", len(y_true))\n",
        "print(\"target samples:\", test_mask.sum())\n",
        "\n",
        "# 모델 결과가 1인 것을 6으로 변경\n",
        "y_pred_mapped = np.where(y_pred == 1, 6, y_pred)\n",
        "\n",
        "acc = (y_pred_mapped[test_mask] == y_true[test_mask]).mean()\n",
        "print(f\"accuracy (labels 0/6 only): {acc:.4f}\")\n",
        "\n",
        "# 현재 시각을 \"YYYYMMDD_HHMMSS\" 형식으로 포맷팅\n",
        "now = datetime.now().strftime(\"%Y%m%d_%H%M%S\")\n",
        "\n",
        "# 원본 파일명을 기반으로 새 파일명 생성\n",
        "y_pred_filename = f\"y_pred_{now}.csv\"\n",
        "\n",
        "np.savetxt(y_pred_filename, y_pred_mapped, fmt=\"%d\")"
      ]
    },
    {
      "cell_type": "code",
      "execution_count": null,
      "id": "MJQm4ZhGdOQ4",
      "metadata": {
        "id": "MJQm4ZhGdOQ4"
      },
      "outputs": [],
      "source": []
    },
    {
      "cell_type": "markdown",
      "id": "Auq1t1kzZ_2x",
      "metadata": {
        "id": "Auq1t1kzZ_2x"
      },
      "source": [
        "# 모델 추론 결과 파일 다운로드\n",
        "\n",
        "자동으로 다운로드되는 파일을 [제출하기](https://aifactory.space/task/9154/submit) 페이지에 업로드하면 자동으로 채점이 되며 정상적으로 채점이 된다면 리더보드에서 자기점수를 확인할 수 있습니다.\n"
      ]
    },
    {
      "cell_type": "code",
      "execution_count": null,
      "id": "lAoYOar873j9",
      "metadata": {
        "colab": {
          "base_uri": "https://localhost:8080/",
          "height": 184
        },
        "id": "lAoYOar873j9",
        "outputId": "d91aceb6-d7f5-469a-b60b-939f8e1ef87b"
      },
      "outputs": [
        {
          "ename": "NameError",
          "evalue": "name 'y_pred_filename' is not defined",
          "output_type": "error",
          "traceback": [
            "\u001b[0;31m---------------------------------------------------------------------------\u001b[0m",
            "\u001b[0;31mNameError\u001b[0m                                 Traceback (most recent call last)",
            "\u001b[0;32m/tmp/ipython-input-51-2647640930.py\u001b[0m in \u001b[0;36m<cell line: 0>\u001b[0;34m()\u001b[0m\n\u001b[1;32m      1\u001b[0m \u001b[0;32mfrom\u001b[0m \u001b[0mgoogle\u001b[0m\u001b[0;34m.\u001b[0m\u001b[0mcolab\u001b[0m \u001b[0;32mimport\u001b[0m \u001b[0mfiles\u001b[0m\u001b[0;34m\u001b[0m\u001b[0;34m\u001b[0m\u001b[0m\n\u001b[1;32m      2\u001b[0m \u001b[0;34m\u001b[0m\u001b[0m\n\u001b[0;32m----> 3\u001b[0;31m \u001b[0mfiles\u001b[0m\u001b[0;34m.\u001b[0m\u001b[0mdownload\u001b[0m\u001b[0;34m(\u001b[0m\u001b[0my_pred_filename\u001b[0m\u001b[0;34m)\u001b[0m\u001b[0;34m\u001b[0m\u001b[0;34m\u001b[0m\u001b[0m\n\u001b[0m",
            "\u001b[0;31mNameError\u001b[0m: name 'y_pred_filename' is not defined"
          ]
        }
      ],
      "source": [
        "from google.colab import files\n",
        "\n",
        "files.download(y_pred_filename)"
      ]
    },
    {
      "cell_type": "markdown",
      "id": "6xQ5mPtuESx9",
      "metadata": {
        "id": "6xQ5mPtuESx9"
      },
      "source": [
        "# 파라미터 추출"
      ]
    },
    {
      "cell_type": "code",
      "execution_count": null,
      "id": "6XlVgYn6rcxo",
      "metadata": {
        "colab": {
          "base_uri": "https://localhost:8080/",
          "height": 17
        },
        "id": "6XlVgYn6rcxo",
        "outputId": "c59fe363-000c-4f6c-8c8e-bc3eb2e87fa7"
      },
      "outputs": [
        {
          "data": {
            "application/javascript": [
              "\n",
              "    async function download(id, filename, size) {\n",
              "      if (!google.colab.kernel.accessAllowed) {\n",
              "        return;\n",
              "      }\n",
              "      const div = document.createElement('div');\n",
              "      const label = document.createElement('label');\n",
              "      label.textContent = `Downloading \"${filename}\": `;\n",
              "      div.appendChild(label);\n",
              "      const progress = document.createElement('progress');\n",
              "      progress.max = size;\n",
              "      div.appendChild(progress);\n",
              "      document.body.appendChild(div);\n",
              "\n",
              "      const buffers = [];\n",
              "      let downloaded = 0;\n",
              "\n",
              "      const channel = await google.colab.kernel.comms.open(id);\n",
              "      // Send a message to notify the kernel that we're ready.\n",
              "      channel.send({})\n",
              "\n",
              "      for await (const message of channel.messages) {\n",
              "        // Send a message to notify the kernel that we're ready.\n",
              "        channel.send({})\n",
              "        if (message.buffers) {\n",
              "          for (const buffer of message.buffers) {\n",
              "            buffers.push(buffer);\n",
              "            downloaded += buffer.byteLength;\n",
              "            progress.value = downloaded;\n",
              "          }\n",
              "        }\n",
              "      }\n",
              "      const blob = new Blob(buffers, {type: 'application/binary'});\n",
              "      const a = document.createElement('a');\n",
              "      a.href = window.URL.createObjectURL(blob);\n",
              "      a.download = filename;\n",
              "      div.appendChild(a);\n",
              "      a.click();\n",
              "      div.remove();\n",
              "    }\n",
              "  "
            ],
            "text/plain": [
              "<IPython.core.display.Javascript object>"
            ]
          },
          "metadata": {},
          "output_type": "display_data"
        },
        {
          "data": {
            "application/javascript": [
              "download(\"download_63c296e9-ac1c-4aa8-8dda-897f51bb3b7c\", \"params.pth\", 249350)"
            ],
            "text/plain": [
              "<IPython.core.display.Javascript object>"
            ]
          },
          "metadata": {},
          "output_type": "display_data"
        }
      ],
      "source": [
        "torch.save(bc.state_dict(), \"params.pth\")\n",
        "files.download(\"params.pth\")"
      ]
    },
    {
      "cell_type": "markdown",
      "id": "JnKgOBMBExt7",
      "metadata": {
        "id": "JnKgOBMBExt7"
      },
      "source": [
        "# 파라미터 확인"
      ]
    },
    {
      "cell_type": "code",
      "execution_count": null,
      "id": "BZK9hcyoEl1G",
      "metadata": {
        "colab": {
          "base_uri": "https://localhost:8080/"
        },
        "collapsed": true,
        "id": "BZK9hcyoEl1G",
        "outputId": "2c2765c3-596f-4658-bc41-507862e39b62"
      },
      "outputs": [
        {
          "name": "stdout",
          "output_type": "stream",
          "text": [
            "qnn_params: tensor([0.5861, 0.4568, 0.1755, 0.9701, 0.8020, 0.6269, 0.8943, 0.9922, 0.8712])\n",
            "conv1.weight: tensor([[[[ 0.1407,  0.0609, -0.1728, -0.1761,  0.0667],\n",
            "          [ 0.0717, -0.0808, -0.0857,  0.0267, -0.0727],\n",
            "          [ 0.0196, -0.0952,  0.1811,  0.0529, -0.1085],\n",
            "          [ 0.0120, -0.1403,  0.0304,  0.1115,  0.1005],\n",
            "          [-0.1966,  0.1402,  0.0201, -0.1746, -0.0922]]],\n",
            "\n",
            "\n",
            "        [[[ 0.0971, -0.0719, -0.0328, -0.0382,  0.0592],\n",
            "          [-0.0400, -0.0779,  0.1097,  0.0333,  0.0948],\n",
            "          [ 0.1881, -0.0689, -0.0837, -0.1984,  0.1251],\n",
            "          [ 0.0620, -0.0613, -0.1076, -0.1109,  0.0899],\n",
            "          [-0.1776,  0.0504,  0.0653,  0.1338, -0.1828]]]])\n",
            "conv1.bias: tensor([0.1327, 0.0484])\n",
            "conv2.weight: tensor([[[[ 0.0767,  0.1268,  0.0768,  0.0626, -0.1413],\n",
            "          [-0.0545, -0.0606,  0.1099,  0.0244,  0.1207],\n",
            "          [ 0.0997,  0.0330,  0.1036,  0.0979,  0.0961],\n",
            "          [ 0.0945,  0.0265, -0.0625, -0.1392, -0.1087],\n",
            "          [-0.0674,  0.1338,  0.1266,  0.1135, -0.0251]],\n",
            "\n",
            "         [[ 0.1011,  0.1382, -0.0451,  0.0931,  0.0410],\n",
            "          [ 0.0844,  0.0447, -0.0300,  0.0274,  0.0102],\n",
            "          [ 0.0928, -0.0442, -0.1205,  0.0410, -0.0659],\n",
            "          [-0.0032,  0.1107, -0.0357,  0.1077, -0.1129],\n",
            "          [ 0.1067,  0.0816,  0.1093, -0.0541,  0.0824]]],\n",
            "\n",
            "\n",
            "        [[[-0.0634, -0.0812, -0.0800, -0.1365,  0.1071],\n",
            "          [ 0.0088,  0.0959, -0.1279,  0.0351,  0.1168],\n",
            "          [-0.0063,  0.0992, -0.0081,  0.0510,  0.0875],\n",
            "          [ 0.0500, -0.0552,  0.0423,  0.0706, -0.1328],\n",
            "          [ 0.0243,  0.0273, -0.0962,  0.0547,  0.0813]],\n",
            "\n",
            "         [[ 0.1013,  0.0534, -0.1367,  0.1195, -0.0665],\n",
            "          [-0.0303,  0.0580,  0.0685,  0.0751, -0.0568],\n",
            "          [-0.1090, -0.0153,  0.1048, -0.0496,  0.0739],\n",
            "          [ 0.0973, -0.0260,  0.0815, -0.0432, -0.0773],\n",
            "          [-0.1082,  0.0166, -0.0783, -0.0498, -0.0619]]],\n",
            "\n",
            "\n",
            "        [[[ 0.0045,  0.1341, -0.0289,  0.1133, -0.1059],\n",
            "          [-0.1320,  0.0227, -0.0154, -0.0367, -0.1398],\n",
            "          [-0.0875, -0.0191,  0.0265, -0.1331,  0.1280],\n",
            "          [-0.0423, -0.1038, -0.1111, -0.0643, -0.0044],\n",
            "          [-0.1160, -0.0058, -0.0552,  0.1118,  0.1342]],\n",
            "\n",
            "         [[-0.1156,  0.0667,  0.0781, -0.0819, -0.0250],\n",
            "          [ 0.0658,  0.0614,  0.1220, -0.0238, -0.0269],\n",
            "          [ 0.0342,  0.0794,  0.0603, -0.0418,  0.1084],\n",
            "          [ 0.0352,  0.0544,  0.0398,  0.0209,  0.0390],\n",
            "          [ 0.0865,  0.0034, -0.0914,  0.1114,  0.0890]]],\n",
            "\n",
            "\n",
            "        [[[ 0.1291, -0.0527,  0.0876,  0.0133, -0.1188],\n",
            "          [ 0.0745, -0.0070, -0.0330, -0.1020, -0.0530],\n",
            "          [ 0.0204, -0.0238,  0.1150,  0.0727, -0.0752],\n",
            "          [ 0.0954, -0.0522, -0.0599, -0.1243,  0.0101],\n",
            "          [ 0.1120, -0.0098,  0.0272,  0.0145, -0.1018]],\n",
            "\n",
            "         [[-0.0958,  0.1172, -0.1031,  0.0152, -0.1167],\n",
            "          [-0.0302,  0.0273,  0.0384,  0.0081,  0.0103],\n",
            "          [-0.0666, -0.1317,  0.0045, -0.1371,  0.0445],\n",
            "          [-0.0944, -0.0872,  0.0773,  0.0990, -0.0658],\n",
            "          [-0.0673, -0.0103,  0.1062, -0.1174,  0.0554]]],\n",
            "\n",
            "\n",
            "        [[[ 0.0849,  0.0313, -0.1135, -0.0525, -0.1124],\n",
            "          [ 0.1229,  0.1095,  0.0030, -0.0038, -0.1390],\n",
            "          [ 0.1138,  0.0015, -0.0156, -0.0129,  0.0746],\n",
            "          [ 0.0050,  0.0569,  0.0160,  0.0905, -0.0493],\n",
            "          [-0.0067,  0.0809,  0.1054, -0.0257,  0.0141]],\n",
            "\n",
            "         [[-0.0969, -0.0077, -0.1394, -0.0856, -0.0660],\n",
            "          [ 0.0952,  0.0996, -0.1374,  0.0641, -0.0953],\n",
            "          [-0.1068,  0.0598, -0.0367,  0.1155,  0.0232],\n",
            "          [-0.1386, -0.0137, -0.0691, -0.1412, -0.0484],\n",
            "          [ 0.0550, -0.0670,  0.1239,  0.1290, -0.0798]]],\n",
            "\n",
            "\n",
            "        [[[ 0.0025,  0.1066, -0.0553, -0.1107, -0.1176],\n",
            "          [-0.0006, -0.0586, -0.0385,  0.0806, -0.1205],\n",
            "          [ 0.0742,  0.0163, -0.0510,  0.0233,  0.0277],\n",
            "          [ 0.0468, -0.0689, -0.0892,  0.0322,  0.0859],\n",
            "          [-0.1387, -0.0800,  0.0472,  0.0675,  0.0395]],\n",
            "\n",
            "         [[ 0.0450,  0.1137,  0.0567,  0.0219, -0.0139],\n",
            "          [-0.0596,  0.0468,  0.1060, -0.1268, -0.0791],\n",
            "          [ 0.0232,  0.0012, -0.1094,  0.0659,  0.0116],\n",
            "          [ 0.0003,  0.0654,  0.0842,  0.0861, -0.1206],\n",
            "          [-0.1319, -0.0861, -0.0912, -0.0954,  0.0340]]],\n",
            "\n",
            "\n",
            "        [[[-0.1082,  0.0582, -0.0767,  0.0695,  0.0927],\n",
            "          [ 0.1263,  0.1251, -0.0628, -0.0364, -0.1263],\n",
            "          [-0.0026,  0.1304,  0.0519, -0.1369, -0.1045],\n",
            "          [-0.0014, -0.1070, -0.0398, -0.0913,  0.0639],\n",
            "          [-0.0559,  0.1336,  0.1010,  0.0747,  0.0716]],\n",
            "\n",
            "         [[ 0.0821,  0.0023,  0.1148, -0.0607, -0.0621],\n",
            "          [-0.1260, -0.0739,  0.0189,  0.0706,  0.1381],\n",
            "          [ 0.0744,  0.0822, -0.1314, -0.0282, -0.0349],\n",
            "          [ 0.0444,  0.1410,  0.0977, -0.0542, -0.0726],\n",
            "          [ 0.1249, -0.0187,  0.0522, -0.1004,  0.0781]]],\n",
            "\n",
            "\n",
            "        [[[ 0.0968,  0.1253,  0.0691, -0.0703, -0.0787],\n",
            "          [-0.0688,  0.1251,  0.0094,  0.1414,  0.1089],\n",
            "          [ 0.0254,  0.0765,  0.0804, -0.0962,  0.1159],\n",
            "          [ 0.1241, -0.1265,  0.0857, -0.1369,  0.0434],\n",
            "          [-0.0199,  0.1228,  0.0729,  0.0572, -0.1339]],\n",
            "\n",
            "         [[ 0.0618,  0.0536, -0.0987, -0.0788, -0.0382],\n",
            "          [-0.0541,  0.0439, -0.1118,  0.1210,  0.1289],\n",
            "          [ 0.0139,  0.0424, -0.0714,  0.1253, -0.0423],\n",
            "          [-0.0928,  0.0779, -0.1114,  0.1110, -0.0598],\n",
            "          [ 0.0105, -0.1412, -0.0252,  0.0489, -0.0544]]],\n",
            "\n",
            "\n",
            "        [[[ 0.0660, -0.1189,  0.1197,  0.0502,  0.0220],\n",
            "          [-0.0973, -0.0577,  0.0712,  0.0184, -0.0508],\n",
            "          [ 0.1067,  0.0175,  0.1108, -0.1159,  0.1042],\n",
            "          [ 0.0923, -0.0272, -0.1220,  0.0015, -0.1333],\n",
            "          [-0.1286,  0.1164, -0.0210, -0.0309, -0.0253]],\n",
            "\n",
            "         [[ 0.0080, -0.0533,  0.0030, -0.0045, -0.1291],\n",
            "          [ 0.1036, -0.0084, -0.1250, -0.0108, -0.0064],\n",
            "          [-0.1088,  0.0544,  0.0049, -0.0437,  0.1169],\n",
            "          [ 0.0203, -0.0411, -0.0218,  0.0981,  0.1397],\n",
            "          [ 0.0810, -0.0516,  0.0097,  0.1322, -0.1386]]],\n",
            "\n",
            "\n",
            "        [[[-0.0100,  0.1397, -0.0309, -0.0862,  0.0485],\n",
            "          [ 0.0190, -0.0411,  0.0954,  0.0515,  0.0074],\n",
            "          [-0.0589, -0.0879,  0.1050, -0.0155, -0.0356],\n",
            "          [ 0.0167,  0.1123,  0.1165,  0.0966, -0.1164],\n",
            "          [ 0.1410, -0.1407, -0.1390,  0.0520,  0.1365]],\n",
            "\n",
            "         [[-0.0835,  0.1198, -0.1168,  0.0794, -0.0340],\n",
            "          [-0.0317,  0.0425, -0.0549,  0.0806, -0.0964],\n",
            "          [ 0.0739, -0.0727,  0.0729,  0.1075, -0.0295],\n",
            "          [ 0.0583,  0.1215,  0.1062, -0.1028, -0.1145],\n",
            "          [ 0.0876,  0.0682,  0.1176, -0.1136, -0.0940]]],\n",
            "\n",
            "\n",
            "        [[[ 0.0341,  0.1260, -0.0796,  0.0428, -0.0827],\n",
            "          [-0.0152, -0.0110,  0.1276, -0.1381,  0.1144],\n",
            "          [ 0.1013, -0.1091,  0.0975,  0.0927,  0.0819],\n",
            "          [-0.1132, -0.0930, -0.0450, -0.0115,  0.1338],\n",
            "          [ 0.0324,  0.0608, -0.0315, -0.0983, -0.0274]],\n",
            "\n",
            "         [[-0.0373, -0.1145, -0.0042, -0.1073,  0.0507],\n",
            "          [ 0.0502, -0.0887, -0.0554, -0.0014,  0.0114],\n",
            "          [ 0.0136,  0.0687, -0.0727, -0.0759, -0.0150],\n",
            "          [-0.1085,  0.1393, -0.0296,  0.1196,  0.0167],\n",
            "          [-0.0266, -0.0242,  0.1047,  0.0945, -0.0085]]],\n",
            "\n",
            "\n",
            "        [[[ 0.0698, -0.0303, -0.1356, -0.0296, -0.1320],\n",
            "          [-0.1389,  0.1023,  0.1003, -0.0962, -0.0535],\n",
            "          [-0.0898, -0.0051,  0.1180,  0.0053, -0.0329],\n",
            "          [ 0.1053, -0.0647, -0.0303,  0.1047,  0.0400],\n",
            "          [-0.1398,  0.0355, -0.0667, -0.1215,  0.0761]],\n",
            "\n",
            "         [[-0.0948, -0.1070, -0.0655,  0.1115,  0.1356],\n",
            "          [-0.0922, -0.1347, -0.0145, -0.1294, -0.1106],\n",
            "          [-0.0408, -0.1391,  0.0796, -0.0461,  0.0604],\n",
            "          [ 0.0157, -0.0372,  0.0085, -0.0920,  0.0624],\n",
            "          [-0.1389, -0.1084, -0.0395,  0.0733,  0.1164]]],\n",
            "\n",
            "\n",
            "        [[[-0.1004, -0.0179,  0.0223,  0.0987, -0.0387],\n",
            "          [ 0.0596,  0.0162, -0.0170,  0.0093,  0.0077],\n",
            "          [-0.0777, -0.1285,  0.0552,  0.1278, -0.1156],\n",
            "          [-0.1156,  0.0342, -0.0140, -0.0269,  0.1044],\n",
            "          [-0.0396, -0.0937,  0.0549, -0.1220, -0.0854]],\n",
            "\n",
            "         [[ 0.0825, -0.0358,  0.1194,  0.0287,  0.0946],\n",
            "          [-0.0080, -0.0179, -0.0965,  0.1367, -0.0617],\n",
            "          [ 0.0607,  0.1184, -0.0404, -0.0745, -0.1136],\n",
            "          [-0.0255,  0.0334,  0.0351, -0.0297,  0.0924],\n",
            "          [ 0.0647, -0.0686,  0.1021, -0.1396,  0.0289]]],\n",
            "\n",
            "\n",
            "        [[[ 0.0207,  0.0110,  0.0652,  0.0097, -0.0754],\n",
            "          [ 0.0505, -0.0190, -0.0567, -0.0428, -0.1298],\n",
            "          [ 0.0497,  0.0212, -0.0273, -0.0265, -0.0100],\n",
            "          [ 0.0961,  0.0355,  0.1302,  0.1343,  0.0297],\n",
            "          [-0.0011,  0.0744, -0.0329, -0.0933,  0.0733]],\n",
            "\n",
            "         [[-0.0550, -0.0774, -0.1286,  0.0014, -0.1217],\n",
            "          [ 0.0101,  0.1204,  0.0634,  0.0854, -0.1021],\n",
            "          [-0.0322, -0.0496,  0.0140, -0.1397,  0.0128],\n",
            "          [ 0.1228, -0.0412, -0.1184,  0.0493,  0.0043],\n",
            "          [-0.0920,  0.0935, -0.0968, -0.1149,  0.1182]]],\n",
            "\n",
            "\n",
            "        [[[ 0.1008,  0.0873, -0.1392,  0.0111,  0.0131],\n",
            "          [ 0.0411, -0.1094,  0.1002,  0.0621,  0.1175],\n",
            "          [-0.0131, -0.0854, -0.1393,  0.0332, -0.1383],\n",
            "          [-0.0541,  0.0747,  0.0894, -0.0386, -0.0335],\n",
            "          [-0.1059,  0.0996,  0.0134, -0.1031, -0.1364]],\n",
            "\n",
            "         [[-0.1056,  0.0217,  0.0419, -0.0396,  0.1087],\n",
            "          [-0.0009,  0.0089,  0.1365,  0.0401,  0.0048],\n",
            "          [ 0.0641,  0.0770, -0.0464, -0.1383, -0.1288],\n",
            "          [ 0.0350,  0.1068,  0.1406, -0.1061,  0.0575],\n",
            "          [-0.0724,  0.0072, -0.0685,  0.0924, -0.1369]]],\n",
            "\n",
            "\n",
            "        [[[-0.1222,  0.0712,  0.0541,  0.0766,  0.1169],\n",
            "          [ 0.0929,  0.0294, -0.1378, -0.0312, -0.1344],\n",
            "          [ 0.1147, -0.1144, -0.0885,  0.1274,  0.0464],\n",
            "          [ 0.1154, -0.1273,  0.0635,  0.1064,  0.0067],\n",
            "          [ 0.0034, -0.0862,  0.0971,  0.0310,  0.0371]],\n",
            "\n",
            "         [[-0.1005, -0.0234,  0.0577, -0.1154,  0.0736],\n",
            "          [ 0.0482,  0.0177,  0.0746,  0.0938,  0.0657],\n",
            "          [ 0.0037,  0.0301, -0.0163,  0.0910, -0.0985],\n",
            "          [-0.1197, -0.0473,  0.0935,  0.0214,  0.1184],\n",
            "          [-0.0068,  0.0030, -0.1073,  0.0953, -0.0092]]]])\n",
            "conv2.bias: tensor([ 0.0951, -0.0806,  0.0052,  0.0738, -0.0079,  0.0006,  0.0431, -0.1119,\n",
            "        -0.0177,  0.1159, -0.0418, -0.1117,  0.1227,  0.1007,  0.1216, -0.0850])\n",
            "fc1.weight: tensor([[-0.0279, -0.0429,  0.0331,  ..., -0.0570, -0.0204,  0.0005],\n",
            "        [ 0.0354, -0.0587, -0.0024,  ..., -0.0566, -0.0604, -0.0030],\n",
            "        [-0.0586, -0.0209,  0.0264,  ...,  0.0212, -0.0382,  0.0505],\n",
            "        ...,\n",
            "        [ 0.0310,  0.0361,  0.0481,  ..., -0.0407, -0.0371,  0.0624],\n",
            "        [ 0.0059, -0.0447,  0.0577,  ..., -0.0573, -0.0547,  0.0265],\n",
            "        [ 0.0414, -0.0524, -0.0538,  ...,  0.0471,  0.0609, -0.0124]])\n",
            "fc1.bias: tensor([-0.0023,  0.0200, -0.0305,  0.0577, -0.0271, -0.0559,  0.0503,  0.0472,\n",
            "         0.0497, -0.0439, -0.0496, -0.0370, -0.0335, -0.0622,  0.0391, -0.0529,\n",
            "        -0.0572, -0.0281,  0.0080,  0.0432,  0.0549, -0.0543, -0.0566,  0.0544,\n",
            "        -0.0398,  0.0215,  0.0276,  0.0176,  0.0373,  0.0209, -0.0290, -0.0494,\n",
            "        -0.0535,  0.0147,  0.0284, -0.0406, -0.0256, -0.0135,  0.0459,  0.0471,\n",
            "         0.0103, -0.0570,  0.0494,  0.0274, -0.0085,  0.0567,  0.0485,  0.0389,\n",
            "         0.0412, -0.0568,  0.0607, -0.0186,  0.0335,  0.0143,  0.0542, -0.0499,\n",
            "         0.0523,  0.0492, -0.0502,  0.0384, -0.0320,  0.0222,  0.0387, -0.0135])\n",
            "fc2.weight: tensor([[ 0.1127,  0.0105, -0.0984, -0.0322,  0.0615, -0.0994, -0.0257, -0.0766,\n",
            "          0.1162, -0.0215, -0.1061, -0.0285,  0.0536, -0.1126,  0.0651,  0.0406,\n",
            "         -0.0792,  0.0953, -0.0444, -0.0451, -0.1205,  0.0907, -0.0506, -0.0248,\n",
            "          0.0992,  0.0840, -0.0772,  0.0371,  0.0718, -0.1123, -0.0947,  0.1051,\n",
            "         -0.0180, -0.0233, -0.0694, -0.0572, -0.0397,  0.0459, -0.0811, -0.0450,\n",
            "         -0.1016,  0.0475, -0.0829,  0.1037,  0.1199, -0.1073,  0.0992,  0.1244,\n",
            "          0.0432, -0.0858, -0.1175,  0.1211,  0.0250,  0.0248,  0.1068,  0.0862,\n",
            "         -0.0315, -0.0052, -0.0466,  0.0243,  0.0352, -0.1129, -0.1239, -0.0240],\n",
            "        [-0.0749,  0.0217, -0.1070,  0.0674,  0.0869, -0.0081,  0.0068,  0.1168,\n",
            "          0.0491,  0.0172, -0.0596, -0.0779,  0.1037,  0.1052, -0.0217, -0.0041,\n",
            "          0.0162, -0.0287, -0.0252, -0.0842,  0.0686, -0.1158,  0.1123, -0.0414,\n",
            "          0.0777, -0.0250, -0.0288,  0.0572,  0.0793, -0.0699,  0.0707, -0.0978,\n",
            "          0.0470, -0.0055,  0.0602,  0.0310,  0.0959, -0.1039,  0.1142, -0.0490,\n",
            "         -0.1188, -0.1071,  0.0679, -0.0662,  0.0361, -0.0794,  0.1168,  0.1160,\n",
            "          0.0338, -0.0442,  0.0768,  0.0816, -0.0516,  0.0439, -0.0064, -0.0956,\n",
            "          0.0966,  0.0341, -0.0458, -0.0722, -0.1140,  0.0891, -0.0674,  0.0597],\n",
            "        [ 0.0816, -0.0952, -0.0209,  0.0281,  0.0941,  0.0194,  0.0178,  0.0711,\n",
            "         -0.0009,  0.0337, -0.0146, -0.0017,  0.0453, -0.0829, -0.0033, -0.0338,\n",
            "         -0.0520, -0.0398, -0.0760, -0.0662, -0.1127,  0.0827,  0.1013,  0.0879,\n",
            "         -0.1050, -0.0443,  0.0382,  0.1207, -0.0159, -0.0083,  0.0868,  0.1212,\n",
            "         -0.0463, -0.0677, -0.1023, -0.0839, -0.0304,  0.1224, -0.1057, -0.0184,\n",
            "          0.0936, -0.0282, -0.1053, -0.1210, -0.0706, -0.0208,  0.1029, -0.0144,\n",
            "         -0.0073,  0.0202,  0.0558,  0.0879,  0.0218, -0.0310, -0.0014, -0.0375,\n",
            "         -0.0085, -0.0445,  0.0781, -0.0695, -0.0495, -0.0878, -0.1204,  0.0075],\n",
            "        [-0.0103, -0.0633, -0.0766, -0.0970,  0.1230, -0.1115,  0.1107, -0.0501,\n",
            "         -0.0826,  0.0588, -0.0064, -0.1069, -0.0382, -0.1085, -0.0373,  0.0032,\n",
            "          0.0690,  0.0298, -0.0800, -0.0974, -0.0655,  0.0300, -0.0915, -0.1123,\n",
            "         -0.0882, -0.0763, -0.0147,  0.0658,  0.0098,  0.0088, -0.0975, -0.0072,\n",
            "          0.1042,  0.0646,  0.0715,  0.1112,  0.0832, -0.0400, -0.0051, -0.0703,\n",
            "         -0.0318,  0.0819, -0.1085, -0.0921,  0.0387,  0.0898, -0.0372,  0.0165,\n",
            "          0.0540, -0.0077, -0.1039,  0.0960, -0.0166, -0.0525,  0.0274,  0.0247,\n",
            "          0.1214,  0.0030, -0.0809, -0.0379, -0.0345, -0.0178, -0.0091, -0.0967]])\n",
            "fc2.bias: tensor([ 0.0844,  0.1010,  0.1233, -0.0281])\n",
            "fc3.weight: tensor([[-0.9745]])\n",
            "fc3.bias: tensor([-0.0916])\n"
          ]
        }
      ],
      "source": [
        "for name, param in bc.named_parameters():\n",
        "    print(f\"{name}: {param.data}\")\n",
        "    bc.eval()"
      ]
    },
    {
      "cell_type": "markdown",
      "id": "zwRswi2UE4EU",
      "metadata": {
        "id": "zwRswi2UE4EU"
      },
      "source": [
        "# 파라미터 로딩"
      ]
    },
    {
      "cell_type": "code",
      "execution_count": 95,
      "id": "GWfl8hyeLAGs",
      "metadata": {
        "colab": {
          "base_uri": "https://localhost:8080/"
        },
        "id": "GWfl8hyeLAGs",
        "outputId": "45057ed2-00cc-4783-93e3-55ddb759c572"
      },
      "outputs": [
        {
          "output_type": "stream",
          "name": "stdout",
          "text": [
            "모델이 CPU로 성공적으로 로드되고 bc 인스턴스에 적용되었습니다.\n"
          ]
        }
      ],
      "source": [
        "## CPU일 때\n",
        "state_dict = torch.load(\"8985.pth\", map_location='cpu')\n",
        "bc.load_state_dict(state_dict)\n",
        "print(\"모델이 CPU로 성공적으로 로드되고 bc 인스턴스에 적용되었습니다.\")"
      ]
    },
    {
      "cell_type": "code",
      "execution_count": 81,
      "id": "IhGQMScbE019",
      "metadata": {
        "colab": {
          "base_uri": "https://localhost:8080/",
          "height": 367
        },
        "id": "IhGQMScbE019",
        "outputId": "4763970f-9f2f-491d-9888-0e7b172b0505"
      },
      "outputs": [
        {
          "output_type": "error",
          "ename": "RuntimeError",
          "evalue": "Error(s) in loading state_dict for BinaryClassifier:\n\tsize mismatch for fc2.weight: copying a param with shape torch.Size([1, 1]) from checkpoint, the shape in current model is torch.Size([1, 8]).",
          "traceback": [
            "\u001b[0;31m---------------------------------------------------------------------------\u001b[0m",
            "\u001b[0;31mRuntimeError\u001b[0m                              Traceback (most recent call last)",
            "\u001b[0;32m/tmp/ipython-input-81-3393855302.py\u001b[0m in \u001b[0;36m<cell line: 0>\u001b[0;34m()\u001b[0m\n\u001b[1;32m      1\u001b[0m \u001b[0;31m## GPU일 때\u001b[0m\u001b[0;34m\u001b[0m\u001b[0;34m\u001b[0m\u001b[0m\n\u001b[1;32m      2\u001b[0m \u001b[0mstate_dict\u001b[0m \u001b[0;34m=\u001b[0m \u001b[0mtorch\u001b[0m\u001b[0;34m.\u001b[0m\u001b[0mload\u001b[0m\u001b[0;34m(\u001b[0m\u001b[0;34m\"8985.pth\"\u001b[0m\u001b[0;34m)\u001b[0m\u001b[0;34m\u001b[0m\u001b[0;34m\u001b[0m\u001b[0m\n\u001b[0;32m----> 3\u001b[0;31m \u001b[0mbc\u001b[0m\u001b[0;34m.\u001b[0m\u001b[0mload_state_dict\u001b[0m\u001b[0;34m(\u001b[0m\u001b[0mstate_dict\u001b[0m\u001b[0;34m)\u001b[0m\u001b[0;34m\u001b[0m\u001b[0;34m\u001b[0m\u001b[0m\n\u001b[0m",
            "\u001b[0;32m/usr/local/lib/python3.11/dist-packages/torch/nn/modules/module.py\u001b[0m in \u001b[0;36mload_state_dict\u001b[0;34m(self, state_dict, strict, assign)\u001b[0m\n\u001b[1;32m   2579\u001b[0m \u001b[0;34m\u001b[0m\u001b[0m\n\u001b[1;32m   2580\u001b[0m         \u001b[0;32mif\u001b[0m \u001b[0mlen\u001b[0m\u001b[0;34m(\u001b[0m\u001b[0merror_msgs\u001b[0m\u001b[0;34m)\u001b[0m \u001b[0;34m>\u001b[0m \u001b[0;36m0\u001b[0m\u001b[0;34m:\u001b[0m\u001b[0;34m\u001b[0m\u001b[0;34m\u001b[0m\u001b[0m\n\u001b[0;32m-> 2581\u001b[0;31m             raise RuntimeError(\n\u001b[0m\u001b[1;32m   2582\u001b[0m                 \"Error(s) in loading state_dict for {}:\\n\\t{}\".format(\n\u001b[1;32m   2583\u001b[0m                     \u001b[0mself\u001b[0m\u001b[0;34m.\u001b[0m\u001b[0m__class__\u001b[0m\u001b[0;34m.\u001b[0m\u001b[0m__name__\u001b[0m\u001b[0;34m,\u001b[0m \u001b[0;34m\"\\n\\t\"\u001b[0m\u001b[0;34m.\u001b[0m\u001b[0mjoin\u001b[0m\u001b[0;34m(\u001b[0m\u001b[0merror_msgs\u001b[0m\u001b[0;34m)\u001b[0m\u001b[0;34m\u001b[0m\u001b[0;34m\u001b[0m\u001b[0m\n",
            "\u001b[0;31mRuntimeError\u001b[0m: Error(s) in loading state_dict for BinaryClassifier:\n\tsize mismatch for fc2.weight: copying a param with shape torch.Size([1, 1]) from checkpoint, the shape in current model is torch.Size([1, 8])."
          ]
        }
      ],
      "source": [
        "## GPU일 때\n",
        "state_dict = torch.load(\"8985.pth\")\n",
        "bc.load_state_dict(state_dict)"
      ]
    },
    {
      "cell_type": "code",
      "execution_count": null,
      "id": "kbXjZ1p8FEC1",
      "metadata": {
        "id": "kbXjZ1p8FEC1"
      },
      "outputs": [],
      "source": []
    }
  ],
  "metadata": {
    "accelerator": "GPU",
    "colab": {
      "collapsed_sections": [
        "a560a5bf",
        "d734b599",
        "a43R6fDo-82a",
        "1febcca3",
        "44b2a8eb",
        "0af34568",
        "6sj_00nJfXJb",
        "T0GtZULeavQ5",
        "6VFFoiSkipiZ"
      ],
      "gpuType": "T4",
      "provenance": [],
      "include_colab_link": true
    },
    "kernelspec": {
      "display_name": "Python 3",
      "name": "python3"
    },
    "language_info": {
      "name": "python"
    }
  },
  "nbformat": 4,
  "nbformat_minor": 5
}